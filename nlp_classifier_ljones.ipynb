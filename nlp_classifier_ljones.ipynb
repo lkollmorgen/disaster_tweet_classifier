{
 "cells": [
  {
   "cell_type": "markdown",
   "id": "dc2a0527-4cf7-4877-8a83-b2f40598f29d",
   "metadata": {},
   "source": [
    "# NLP Predict Disaster Tweet Classifier"
   ]
  },
  {
   "cell_type": "markdown",
   "id": "a1750ae4-9cfb-4db4-bd50-4b711a743ece",
   "metadata": {},
   "source": [
    "### Notebook Description\n",
    "The following notebook explores a model attempting to classify a set of tweets with the appropriate label: 1 for tweets about real disasters and 0 for tweets not about real disasters."
   ]
  },
  {
   "cell_type": "code",
   "execution_count": 1,
   "id": "5d313ef5-8ab5-456c-b0d7-791ca6fa5648",
   "metadata": {},
   "outputs": [
    {
     "name": "stderr",
     "output_type": "stream",
     "text": [
      "/tmp/ipykernel_3429/1131998491.py:1: DeprecationWarning: \n",
      "Pyarrow will become a required dependency of pandas in the next major release of pandas (pandas 3.0),\n",
      "(to allow more performant data types, such as the Arrow string type, and better interoperability with other libraries)\n",
      "but was not found to be installed on your system.\n",
      "If this would cause problems for you,\n",
      "please provide us feedback at https://github.com/pandas-dev/pandas/issues/54466\n",
      "        \n",
      "  import pandas as pd\n"
     ]
    }
   ],
   "source": [
    "import pandas as pd\n",
    "import numpy as np\n",
    "\n",
    "import seaborn as sns\n",
    "import matplotlib.pyplot as plt\n",
    "from mpl_toolkits.mplot3d import Axes3D\n",
    "from funcs import *\n",
    "import random\n",
    "import math"
   ]
  },
  {
   "cell_type": "markdown",
   "id": "04d51466-545a-493c-9d6d-9b8df0639934",
   "metadata": {},
   "source": [
    "## Data Loading and Analysis"
   ]
  },
  {
   "cell_type": "code",
   "execution_count": 2,
   "id": "b3353df3-30fa-4996-9f9a-78953539694e",
   "metadata": {},
   "outputs": [
    {
     "data": {
      "text/html": [
       "<div>\n",
       "<style scoped>\n",
       "    .dataframe tbody tr th:only-of-type {\n",
       "        vertical-align: middle;\n",
       "    }\n",
       "\n",
       "    .dataframe tbody tr th {\n",
       "        vertical-align: top;\n",
       "    }\n",
       "\n",
       "    .dataframe thead th {\n",
       "        text-align: right;\n",
       "    }\n",
       "</style>\n",
       "<table border=\"1\" class=\"dataframe\">\n",
       "  <thead>\n",
       "    <tr style=\"text-align: right;\">\n",
       "      <th></th>\n",
       "      <th>id</th>\n",
       "      <th>keyword</th>\n",
       "      <th>location</th>\n",
       "      <th>text</th>\n",
       "      <th>target</th>\n",
       "    </tr>\n",
       "  </thead>\n",
       "  <tbody>\n",
       "    <tr>\n",
       "      <th>0</th>\n",
       "      <td>1</td>\n",
       "      <td>NaN</td>\n",
       "      <td>NaN</td>\n",
       "      <td>Our Deeds are the Reason of this #earthquake M...</td>\n",
       "      <td>1</td>\n",
       "    </tr>\n",
       "    <tr>\n",
       "      <th>1</th>\n",
       "      <td>4</td>\n",
       "      <td>NaN</td>\n",
       "      <td>NaN</td>\n",
       "      <td>Forest fire near La Ronge Sask. Canada</td>\n",
       "      <td>1</td>\n",
       "    </tr>\n",
       "    <tr>\n",
       "      <th>2</th>\n",
       "      <td>5</td>\n",
       "      <td>NaN</td>\n",
       "      <td>NaN</td>\n",
       "      <td>All residents asked to 'shelter in place' are ...</td>\n",
       "      <td>1</td>\n",
       "    </tr>\n",
       "    <tr>\n",
       "      <th>3</th>\n",
       "      <td>6</td>\n",
       "      <td>NaN</td>\n",
       "      <td>NaN</td>\n",
       "      <td>13,000 people receive #wildfires evacuation or...</td>\n",
       "      <td>1</td>\n",
       "    </tr>\n",
       "    <tr>\n",
       "      <th>4</th>\n",
       "      <td>7</td>\n",
       "      <td>NaN</td>\n",
       "      <td>NaN</td>\n",
       "      <td>Just got sent this photo from Ruby #Alaska as ...</td>\n",
       "      <td>1</td>\n",
       "    </tr>\n",
       "  </tbody>\n",
       "</table>\n",
       "</div>"
      ],
      "text/plain": [
       "   id keyword location                                               text  \\\n",
       "0   1     NaN      NaN  Our Deeds are the Reason of this #earthquake M...   \n",
       "1   4     NaN      NaN             Forest fire near La Ronge Sask. Canada   \n",
       "2   5     NaN      NaN  All residents asked to 'shelter in place' are ...   \n",
       "3   6     NaN      NaN  13,000 people receive #wildfires evacuation or...   \n",
       "4   7     NaN      NaN  Just got sent this photo from Ruby #Alaska as ...   \n",
       "\n",
       "   target  \n",
       "0       1  \n",
       "1       1  \n",
       "2       1  \n",
       "3       1  \n",
       "4       1  "
      ]
     },
     "metadata": {},
     "output_type": "display_data"
    },
    {
     "name": "stdout",
     "output_type": "stream",
     "text": [
      "7613 entries with 5 features\n"
     ]
    }
   ],
   "source": [
    "tweets = pd.read_csv('train.csv')\n",
    "display(tweets.head(5))\n",
    "number_tweets = tweets.shape[0]\n",
    "print(f'{number_tweets} entries with {tweets.shape[1]} features')"
   ]
  },
  {
   "cell_type": "markdown",
   "id": "8056ec7c-0f15-4fed-904f-e9bf7639bb3e",
   "metadata": {},
   "source": [
    "_The following cell selects 7 tweets at random and displays their text contents as well as target_"
   ]
  },
  {
   "cell_type": "code",
   "execution_count": 3,
   "id": "e17f9123-c2ea-4b51-a779-8549d32c2b4a",
   "metadata": {},
   "outputs": [
    {
     "name": "stdout",
     "output_type": "stream",
     "text": [
      "tweets labeled to describe an actual disaster:  3271\n",
      "tweets labeled NOT to describe an actual disaster:  4342\n"
     ]
    }
   ],
   "source": [
    "#checking for label imbalance\n",
    "num_1 = tweets[tweets['target'] == 1]['target'].count()\n",
    "num_0 = tweets[tweets['target'] == 0]['target'].count()\n",
    "\n",
    "print('tweets labeled to describe an actual disaster: ',num_1)\n",
    "print('tweets labeled NOT to describe an actual disaster: ',num_0)"
   ]
  },
  {
   "cell_type": "code",
   "execution_count": 106,
   "id": "e3431683-2063-4e39-abc2-10fe085876b8",
   "metadata": {},
   "outputs": [
    {
     "name": "stdout",
     "output_type": "stream",
     "text": [
      "location:  3120\n"
     ]
    },
    {
     "data": {
      "text/plain": [
       "'Also my iPhone charger is broken and I just electrocuted myself.'"
      ]
     },
     "metadata": {},
     "output_type": "display_data"
    },
    {
     "data": {
      "text/plain": [
       "0"
      ]
     },
     "metadata": {},
     "output_type": "display_data"
    },
    {
     "name": "stdout",
     "output_type": "stream",
     "text": [
      "\n",
      "location:  3305\n"
     ]
    },
    {
     "data": {
      "text/plain": [
       "\"So all the store's fire alarms went off today at work and we had to evacuate. I was like 'OMG!! I.S.I.S. ITS HAPPENING!!!!'\""
      ]
     },
     "metadata": {},
     "output_type": "display_data"
    },
    {
     "data": {
      "text/plain": [
       "1"
      ]
     },
     "metadata": {},
     "output_type": "display_data"
    },
    {
     "name": "stdout",
     "output_type": "stream",
     "text": [
      "\n",
      "location:  4185\n"
     ]
    },
    {
     "data": {
      "text/plain": [
       "'I liked a @YouTube video from @chaboyyhd http://t.co/Yr67ugEsrm Battlefield 4 Funny Moments - Dukes of Hazard Undercover Soldier'"
      ]
     },
     "metadata": {},
     "output_type": "display_data"
    },
    {
     "data": {
      "text/plain": [
       "0"
      ]
     },
     "metadata": {},
     "output_type": "display_data"
    },
    {
     "name": "stdout",
     "output_type": "stream",
     "text": [
      "\n",
      "location:  967\n"
     ]
    },
    {
     "data": {
      "text/plain": [
       "'AUTH LOUIS VUITTON BROWN SAUMUR 35 CROSS BODY SHOULDER BAG MONOGRAM 7.23 419-3 - Full read\\x89Û_ http://t.co/HCDiwE5flc http://t.co/zLvEbEoavG'"
      ]
     },
     "metadata": {},
     "output_type": "display_data"
    },
    {
     "data": {
      "text/plain": [
       "0"
      ]
     },
     "metadata": {},
     "output_type": "display_data"
    },
    {
     "name": "stdout",
     "output_type": "stream",
     "text": [
      "\n",
      "location:  2402\n"
     ]
    },
    {
     "data": {
      "text/plain": [
       "'Happy no one was hurt when #wmata train derailed. Also the express bus is so much better than metro rail http://t.co/7cEhNV3DKy @fox5newsdc'"
      ]
     },
     "metadata": {},
     "output_type": "display_data"
    },
    {
     "data": {
      "text/plain": [
       "1"
      ]
     },
     "metadata": {},
     "output_type": "display_data"
    },
    {
     "name": "stdout",
     "output_type": "stream",
     "text": [
      "\n",
      "location:  2603\n"
     ]
    },
    {
     "data": {
      "text/plain": [
       "'@DavidVitter Hi David in 2003 I saw the USA walk into a war that destroyed the lives of millions. You can prevent a repeat. #IranDeal'"
      ]
     },
     "metadata": {},
     "output_type": "display_data"
    },
    {
     "data": {
      "text/plain": [
       "1"
      ]
     },
     "metadata": {},
     "output_type": "display_data"
    },
    {
     "name": "stdout",
     "output_type": "stream",
     "text": [
      "\n",
      "location:  3872\n"
     ]
    },
    {
     "data": {
      "text/plain": [
       "'Maryland mansion fire that killed 6 caused by damaged plug under Christmas tree report says - Into the flames... http://t.co/lKJFabQzb3'"
      ]
     },
     "metadata": {},
     "output_type": "display_data"
    },
    {
     "data": {
      "text/plain": [
       "1"
      ]
     },
     "metadata": {},
     "output_type": "display_data"
    },
    {
     "name": "stdout",
     "output_type": "stream",
     "text": [
      "\n"
     ]
    }
   ],
   "source": [
    "for _ in range(7):\n",
    "    ix = random.randint(0,number_tweets+1)\n",
    "    print('location: ',ix)\n",
    "    tweet = tweets.loc[ix,'text']\n",
    "    display(tweet,tweets.loc[ix,'target'])\n",
    "    # sent_len_ratio = capitals_vs_sentence_len(tweet) \n",
    "    # print(sent_len_ratio)\n",
    "    print()"
   ]
  },
  {
   "cell_type": "markdown",
   "id": "9a2affca-ceb6-42df-9597-970c3bfb43b8",
   "metadata": {},
   "source": [
    "### Evaluating Text Features"
   ]
  },
  {
   "cell_type": "markdown",
   "id": "579a78df-2955-42f0-953b-c10c03a62d5a",
   "metadata": {},
   "source": [
    "_The following cell contains words selected to develop the model as well as words that did not prove to be useful_"
   ]
  },
  {
   "cell_type": "code",
   "execution_count": 129,
   "id": "2fa78964-fb02-4a55-9353-e2d83049d3ff",
   "metadata": {},
   "outputs": [],
   "source": [
    "sample_words = [\"'\",'report','after','evacuat','http','hurricane','earthquake','drought','flood','fire','survivor',\\\n",
    "               'storm','terr',':','police','crash','death','casualt','injur','war']\n",
    "# [\"'\",'report','after','evacuation','http','hurricane','earthquake','drought','flood','fire','survivor',\\\n",
    "#                'storm','terr',':','police','crash','death','casualt','injur']\n",
    "\n",
    "useless_words = ['aid','please','information','notify','authorities','body','rescue','response'\\\n",
    "                'civilian','escape','#news','quarantine','explosion','shoot','colli','hostage','terrorist']"
   ]
  },
  {
   "cell_type": "code",
   "execution_count": 130,
   "id": "9f598f6b-8e63-4e73-8f2c-4fd3e7dcb925",
   "metadata": {},
   "outputs": [
    {
     "data": {
      "text/html": [
       "<div>\n",
       "<style scoped>\n",
       "    .dataframe tbody tr th:only-of-type {\n",
       "        vertical-align: middle;\n",
       "    }\n",
       "\n",
       "    .dataframe tbody tr th {\n",
       "        vertical-align: top;\n",
       "    }\n",
       "\n",
       "    .dataframe thead th {\n",
       "        text-align: right;\n",
       "    }\n",
       "</style>\n",
       "<table border=\"1\" class=\"dataframe\">\n",
       "  <thead>\n",
       "    <tr style=\"text-align: right;\">\n",
       "      <th></th>\n",
       "      <th>'</th>\n",
       "      <th>report</th>\n",
       "      <th>after</th>\n",
       "      <th>evacuat</th>\n",
       "      <th>http</th>\n",
       "      <th>hurricane</th>\n",
       "      <th>earthquake</th>\n",
       "      <th>drought</th>\n",
       "      <th>flood</th>\n",
       "      <th>fire</th>\n",
       "      <th>survivor</th>\n",
       "      <th>storm</th>\n",
       "      <th>terr</th>\n",
       "      <th>:</th>\n",
       "      <th>police</th>\n",
       "      <th>crash</th>\n",
       "      <th>death</th>\n",
       "      <th>casualt</th>\n",
       "      <th>injur</th>\n",
       "      <th>war</th>\n",
       "    </tr>\n",
       "  </thead>\n",
       "  <tbody>\n",
       "    <tr>\n",
       "      <th>0</th>\n",
       "      <td>0.0</td>\n",
       "      <td>0.0</td>\n",
       "      <td>0.0</td>\n",
       "      <td>0.0</td>\n",
       "      <td>0.0</td>\n",
       "      <td>0.0</td>\n",
       "      <td>1.0</td>\n",
       "      <td>0.0</td>\n",
       "      <td>0.0</td>\n",
       "      <td>0.0</td>\n",
       "      <td>0.0</td>\n",
       "      <td>0.0</td>\n",
       "      <td>0.0</td>\n",
       "      <td>0.0</td>\n",
       "      <td>0.0</td>\n",
       "      <td>0.0</td>\n",
       "      <td>0.0</td>\n",
       "      <td>0.0</td>\n",
       "      <td>0.0</td>\n",
       "      <td>0.0</td>\n",
       "    </tr>\n",
       "  </tbody>\n",
       "</table>\n",
       "</div>"
      ],
      "text/plain": [
       "     ' report after evacuat http hurricane earthquake drought flood fire  \\\n",
       "0  0.0    0.0   0.0     0.0  0.0       0.0        1.0     0.0   0.0  0.0   \n",
       "\n",
       "  survivor storm terr    : police crash death casualt injur  war  \n",
       "0      0.0   0.0  0.0  0.0    0.0   0.0   0.0     0.0   0.0  0.0  "
      ]
     },
     "execution_count": 130,
     "metadata": {},
     "output_type": "execute_result"
    }
   ],
   "source": [
    "feats = pd.DataFrame()\n",
    "labels = tweets['target']\n",
    "\n",
    "feats.loc[:, sample_words] = words_in_texts(sample_words, tweets['text'])\n",
    "feats.head(1)"
   ]
  },
  {
   "cell_type": "code",
   "execution_count": 131,
   "id": "23034a6c-0f82-4f29-af27-fa994da37150",
   "metadata": {},
   "outputs": [
    {
     "data": {
      "image/png": "[encoded data removed]",
      "text/plain": [
       "<Figure size 640x480 with 1 Axes>"
      ]
     },
     "metadata": {},
     "output_type": "display_data"
    }
   ],
   "source": [
    "eda_df = feats.join(labels)\n",
    "graph_comparison = pd.DataFrame(eda_df.groupby('target').mean()).unstack(0).plot.barh();"
   ]
  },
  {
   "cell_type": "code",
   "execution_count": 8,
   "id": "22ee68a4-f6b1-4f96-b2bf-85f8eb2ca79e",
   "metadata": {},
   "outputs": [
    {
     "name": "stderr",
     "output_type": "stream",
     "text": [
      "/tmp/ipykernel_3429/654379560.py:2: FutureWarning: \n",
      "\n",
      "Passing `palette` without assigning `hue` is deprecated and will be removed in v0.14.0. Assign the `x` variable to `hue` and set `legend=False` for the same effect.\n",
      "\n",
      "  sns.barplot(eda_df, x='target',y='email len',palette={'0':'r','1':'g'});\n",
      "/home/ljones333/miniconda3/envs/chem277b/lib/python3.10/site-packages/seaborn/_base.py:949: FutureWarning: When grouping with a length-1 list-like, you will need to pass a length-1 tuple to get_group in a future version of pandas. Pass `(name,)` instead of `name` to silence this warning.\n",
      "  data_subset = grouped_data.get_group(pd_key)\n",
      "/home/ljones333/miniconda3/envs/chem277b/lib/python3.10/site-packages/seaborn/_base.py:949: FutureWarning: When grouping with a length-1 list-like, you will need to pass a length-1 tuple to get_group in a future version of pandas. Pass `(name,)` instead of `name` to silence this warning.\n",
      "  data_subset = grouped_data.get_group(pd_key)\n"
     ]
    },
    {
     "data": {
      "image/png": "[encoded data removed]",
      "text/plain": [
       "<Figure size 640x480 with 1 Axes>"
      ]
     },
     "metadata": {},
     "output_type": "display_data"
    }
   ],
   "source": [
    "eda_df['email len'] = [len(tweet) for tweet in tweets['text']]\n",
    "sns.barplot(eda_df, x='target',y='email len',palette={'0':'r','1':'g'});"
   ]
  },
  {
   "cell_type": "code",
   "execution_count": 9,
   "id": "028030a0-6d05-4531-a20b-17ea6f801010",
   "metadata": {},
   "outputs": [],
   "source": [
    "sample_sentence1 = \"why is my model attaining low accuracy??.\"\n",
    "sample_sentence2 = \"Model by Laura Kollmorgen seems to only attain \\\n",
    "an accuracy of .67 LOL....\""
   ]
  },
  {
   "cell_type": "code",
   "execution_count": 10,
   "id": "9cee0538-8026-46e3-873e-f33e5b847617",
   "metadata": {},
   "outputs": [],
   "source": [
    "assert capitals_vs_sentence_len(sample_sentence1) == 0\n",
    "assert capitals_vs_sentence_len(sample_sentence2) > 0"
   ]
  },
  {
   "cell_type": "code",
   "execution_count": 11,
   "id": "a165c187-a570-4fa9-96c3-b76214a413a0",
   "metadata": {},
   "outputs": [],
   "source": [
    "assert count_periods(sample_sentence1) == 1\n",
    "assert count_periods(sample_sentence2) == 5"
   ]
  },
  {
   "cell_type": "code",
   "execution_count": 12,
   "id": "116d7fbc-48c0-4a8d-b130-8079d54a7ab0",
   "metadata": {},
   "outputs": [],
   "source": [
    "assert count_digits(sample_sentence1) == 0\n",
    "assert count_digits(sample_sentence2) == 2"
   ]
  },
  {
   "cell_type": "markdown",
   "id": "1d8ec39d-b731-4969-891c-35e94483a5f8",
   "metadata": {},
   "source": [
    "_The above EDA was useful in identifying features from the tweets that could contribute to our classifier model_"
   ]
  },
  {
   "cell_type": "markdown",
   "id": "a41b1fe0-6cc9-49d9-a18e-2dde073a4662",
   "metadata": {},
   "source": [
    "## Model"
   ]
  },
  {
   "cell_type": "code",
   "execution_count": 13,
   "id": "0f057ea8-603b-4dc8-9111-344a5941926d",
   "metadata": {},
   "outputs": [],
   "source": [
    "#imports\n",
    "from sklearn.linear_model import LogisticRegression\n",
    "from sklearn.ensemble import RandomForestClassifier\n",
    "from sklearn.svm import LinearSVC\n",
    "\n",
    "from sklearn.metrics import accuracy_score, roc_curve, confusion_matrix\n",
    "from sklearn.decomposition import PCA\n",
    "from sklearn.model_selection import train_test_split\n",
    "from sklearn.preprocessing import StandardScaler"
   ]
  },
  {
   "cell_type": "code",
   "execution_count": 132,
   "id": "7bb36f32-0b32-45f1-b212-f09384510c20",
   "metadata": {},
   "outputs": [],
   "source": [
    "def tweet_processing(df):\n",
    "    if df.ndim < 2:\n",
    "        raise('Yo this df is too small')\n",
    "        \n",
    "    #words initially evaluated to become features\n",
    "    word_features = [\"'\",'report','after','evacuat','http','hurricane','earthquake','drought','flood','fire','survivor',\\\n",
    "               'storm','terr',':','police','crash','death','casualt','injur','war']\n",
    "    \n",
    "    map = dict(zip(range(0,len(word_features)),word_features))\n",
    "    \n",
    "    #initializing dataframe from words in texts\n",
    "    x_df = (pd.DataFrame(words_in_texts(word_features, df['text']))\n",
    "           .rename(columns=map))\n",
    "\n",
    "    #adding ratio for words/sentence length\n",
    "    x_df['capitals vs. sentence length'] = (df['text']\n",
    "                                            .apply(lambda x: capitals_vs_sentence_len(x))\n",
    "                                            .values)\n",
    "\n",
    "    # # adding period count. This function actually decreases the model accuracy\n",
    "    # x_df['sentence periods'] = (df['text']\n",
    "    #                             .apply(lambda x: count_periods(x))\n",
    "    #                             .values)\n",
    "\n",
    "    # adding digit count\n",
    "    x_df['num digits'] = (df['text']\n",
    "                                .apply(lambda x: count_digits(x))\n",
    "                                .values)    \n",
    "    #optional scaling data\n",
    "    #x_scaled = StandardScaler().fit_transform(x_df)\n",
    "    \n",
    "    if 'target' in df.columns:\n",
    "        # return x_scaled, df['target']\n",
    "        return x_df, df['target']\n",
    "    else:\n",
    "        # return x_scaled, 0\n",
    "        return x_df, 0"
   ]
  },
  {
   "cell_type": "code",
   "execution_count": 133,
   "id": "662fd26f-ecd9-4374-bc2e-6759cd388502",
   "metadata": {},
   "outputs": [
    {
     "name": "stdout",
     "output_type": "stream",
     "text": [
      "len train df: 5329\n",
      "len val df: 2284\n",
      "len test df: 3263\n",
      "\n"
     ]
    }
   ],
   "source": [
    "train_and_val = pd.read_csv('train.csv')\n",
    "#splitting the training data into validation data\n",
    "train, val = train_test_split(train_and_val,test_size=0.3,random_state=42)\n",
    "final_test = pd.read_csv('test.csv')\n",
    "print(f'len train df: {train.shape[0]}\\nlen val df: {val.shape[0]}\\nlen test df: {final_test.shape[0]}')\n",
    "print()\n",
    "\n",
    "x_train, y_train = tweet_processing(train)\n",
    "\n",
    "x_val, y_val = tweet_processing(val)\n",
    "\n",
    "x_test, y_test = tweet_processing(final_test)"
   ]
  },
  {
   "cell_type": "markdown",
   "id": "f372c320-3ac3-4242-9836-04ff7439938f",
   "metadata": {},
   "source": [
    "### Baseline Model Results"
   ]
  },
  {
   "cell_type": "code",
   "execution_count": 145,
   "id": "2a561aeb-5c7b-4fd2-9358-3a91ae6453ec",
   "metadata": {},
   "outputs": [
    {
     "name": "stderr",
     "output_type": "stream",
     "text": [
      "/home/ljones333/miniconda3/envs/chem277b/lib/python3.10/site-packages/sklearn/svm/_classes.py:32: FutureWarning: The default value of `dual` will change from `True` to `'auto'` in 1.5. Set the value of `dual` explicitly to suppress the warning.\n",
      "  warnings.warn(\n",
      "/home/ljones333/miniconda3/envs/chem277b/lib/python3.10/site-packages/sklearn/svm/_base.py:1242: ConvergenceWarning: Liblinear failed to converge, increase the number of iterations.\n",
      "  warnings.warn(\n"
     ]
    },
    {
     "name": "stdout",
     "output_type": "stream",
     "text": [
      "0.6900175131348512 0.6335376532399299 0.6891418563922942\n"
     ]
    }
   ],
   "source": [
    "log_model = LogisticRegression(solver='sag',max_iter = 1000).fit(x_train,y_train)\n",
    "# (best parameters)  {'C': 1.0, 'fit_intercept': True, 'max_iter': 100, 'solver': 'sag'}\n",
    "forest_model = RandomForestClassifier(n_estimators=100,random_state=42).fit(x_train,y_train)\n",
    "linear_model = LinearSVC(random_state = 42).fit(x_train,y_train)\n",
    "\n",
    "log_score = log_model.score(x_val,y_val)\n",
    "forest_score = forest_model.score(x_val,y_val)\n",
    "linear_score = linear_model.score(x_val,y_val)\n",
    "\n",
    "print(log_score,forest_score, linear_score)"
   ]
  },
  {
   "cell_type": "markdown",
   "id": "b22537fe-32fe-481f-b0d2-2e4fd407ff4a",
   "metadata": {},
   "source": [
    "_The above scores measure the baseline capabilities of the logistic regression and random forest classifier models_"
   ]
  },
  {
   "cell_type": "markdown",
   "id": "bde06b47-2149-4658-91f9-f7f4224c6063",
   "metadata": {},
   "source": [
    "### Model Tuning"
   ]
  },
  {
   "cell_type": "markdown",
   "id": "df73ab2c-cc39-4bcf-90d8-073827edeff1",
   "metadata": {},
   "source": [
    "#### PCA"
   ]
  },
  {
   "cell_type": "code",
   "execution_count": 17,
   "id": "dc441e69-e1dd-4449-ac30-1e1d7358d7ad",
   "metadata": {},
   "outputs": [
    {
     "name": "stdout",
     "output_type": "stream",
     "text": [
      "Variance Ratio By Component:  [0.48311577 0.18221613 0.05878682]\n"
     ]
    },
    {
     "data": {
      "image/png": "[encoded data removed]",
      "text/plain": [
       "<Figure size 700x700 with 1 Axes>"
      ]
     },
     "metadata": {},
     "output_type": "display_data"
    }
   ],
   "source": [
    "#3 principal components\n",
    "pca = PCA(n_components=3).fit(x_train)\n",
    "pca_feats = pca.transform(x_train)\n",
    "\n",
    "# print(pca.components_)\n",
    "fig = plt.figure(figsize=(7,7))\n",
    "axis=fig.add_subplot(111,projection='3d')\n",
    "axis.scatter(pca_feats[:,0],pca_feats[:,1],pca_feats[:,2],\\\n",
    "             c=y_train);\n",
    "\n",
    "print('Variance Ratio By Component: ', pca.explained_variance_ratio_)"
   ]
  },
  {
   "cell_type": "code",
   "execution_count": 18,
   "id": "0c4e882e-bb9a-4162-ab3a-047de848169c",
   "metadata": {},
   "outputs": [
    {
     "name": "stdout",
     "output_type": "stream",
     "text": [
      "Variance Ratio By Component:  [0.48311577 0.18221613]\n"
     ]
    },
    {
     "data": {
      "image/png": "[encoded data removed]",
      "text/plain": [
       "<Figure size 640x480 with 1 Axes>"
      ]
     },
     "metadata": {},
     "output_type": "display_data"
    }
   ],
   "source": [
    "#2 principal components\n",
    "pca = PCA(n_components=2).fit(x_train)\n",
    "pca_feats = pca.transform(x_train)\n",
    "\n",
    "plt.scatter(pca_feats[:,0],pca_feats[:,1], c=y_train);\n",
    "\n",
    "print('Variance Ratio By Component: ', pca.explained_variance_ratio_)"
   ]
  },
  {
   "cell_type": "markdown",
   "id": "15ca6012-25a1-4ef1-b25f-dca8de3b1d52",
   "metadata": {},
   "source": [
    "#### Modeling using PCA"
   ]
  },
  {
   "cell_type": "code",
   "execution_count": null,
   "id": "41c2d1e0-278e-4c76-8271-4425ab27a75d",
   "metadata": {},
   "outputs": [],
   "source": [
    "pca_val_x = pca.transform(x_val)\n",
    "\n",
    "log_model = LogisticRegression(solver='liblinear',max_iter = 1000).fit(pca_feats,y_train)\n",
    "forest_model = RandomForestClassifier(n_estimators=100,random_state=42).fit(pca_feats,y_train)\n",
    "linear_model = LinearSVC(random_state = 42).fit(pca_feats,y_train)\n",
    "\n",
    "log_score = log_model.score(pca_val_x,y_val)\n",
    "forest_score = forest_model.score(pca_val_x,y_val)\n",
    "linear_score = linear_model.score(pca_val_x,y_val)\n",
    "\n",
    "print(log_score,forest_score, linear_score)"
   ]
  },
  {
   "cell_type": "markdown",
   "id": "dbd32f82-ff99-45c8-aa42-7030e19ccdf7",
   "metadata": {},
   "source": [
    "_The above results are very interesting, but I suppose not surprising. The PCA revealed little in the way of a definitive hyperplane among the input features._"
   ]
  },
  {
   "cell_type": "markdown",
   "id": "aaf71ccb-9970-4277-a905-b7fcce54c2bf",
   "metadata": {},
   "source": [
    "#### Grid Search CV"
   ]
  },
  {
   "cell_type": "code",
   "execution_count": 20,
   "id": "9fb1aef0-ad8b-4bf0-883b-a28b09c8216c",
   "metadata": {},
   "outputs": [],
   "source": [
    "from sklearn.model_selection import GridSearchCV"
   ]
  },
  {
   "cell_type": "code",
   "execution_count": 21,
   "id": "fbe715b4-4b7e-45ae-8c0d-415921147206",
   "metadata": {},
   "outputs": [],
   "source": [
    "#normalization of training data\n",
    "x_train=(x_train-np.min(x_train))/(np.max(x_train)-np.min(x_train))"
   ]
  },
  {
   "cell_type": "markdown",
   "id": "155fe79c-3b81-47dd-9722-bcc0774c5348",
   "metadata": {},
   "source": [
    "##### Logistic Regression Model"
   ]
  },
  {
   "cell_type": "code",
   "execution_count": 150,
   "id": "d81d3b09-3099-48d3-b901-04aa9119ec66",
   "metadata": {},
   "outputs": [],
   "source": [
    "# log_grid={\"C\":np.logspace(-3,3,7), #\"penalty\":[\"l1\",\"l2\"],\n",
    "#       \"solver\":[\"lbfgs\", \"liblinear\", \"newton-cg\", \"newton-cholesky\", \"sag\", \"saga\"],\n",
    "#      # \"max_iter\":np.linspace(100,10000,4,dtype='int'),\n",
    "#      \"fit_intercept\":[True,False]}\n",
    "\n",
    "# logreg=LogisticRegression()\n",
    "# logreg_cv=GridSearchCV(logreg,log_grid,cv=10)\n",
    "# logreg_cv.fit(x_train,y_train)\n",
    "\n",
    "# print(\"tuned hpyerparameters :(best parameters) \",logreg_cv.best_params_)\n",
    "# print(\"accuracy :\",logreg_cv.best_score_)"
   ]
  },
  {
   "cell_type": "markdown",
   "id": "3fb38f17-dfef-44d4-beb3-5730a931dde1",
   "metadata": {},
   "source": [
    "##### Random Forest Model"
   ]
  },
  {
   "cell_type": "code",
   "execution_count": 23,
   "id": "ba02fa09-45e6-4129-998e-23cfb4fb4d90",
   "metadata": {},
   "outputs": [],
   "source": [
    "# ### Cell takes forever to run, only run if you have 20 extra min\n",
    "# forest_grid ={\n",
    "#     \"n_estimators\":np.linspace(10,1000,10,dtype='int'),\n",
    "#     \"criterion\":[\"gini\",\"entropy\",\"log_loss\"],\n",
    "#     \"max_features\":[\"sqrt\",\"log2\"]\n",
    "# }\n",
    "\n",
    "# forest = RandomForestClassifier()\n",
    "# forest_cv = GridSearchCV(forest,forest_grid,cv=10)\n",
    "# forest_cv.fit(x_train,y_train)\n",
    "\n",
    "# print(\"tuned hpyerparameters :(best parameters) \",forest_cv.best_params_)\n",
    "# print(\"accuracy :\",forest_cv.best_score_)"
   ]
  },
  {
   "cell_type": "markdown",
   "id": "e5abea1e-9bc4-44c8-9c7b-21aa268a7caa",
   "metadata": {},
   "source": [
    "### Additional Model Examination"
   ]
  },
  {
   "cell_type": "code",
   "execution_count": 24,
   "id": "ca48822d-f646-4ca7-b125-69bd5d5c363e",
   "metadata": {},
   "outputs": [],
   "source": [
    "from sklearn.naive_bayes import GaussianNB, BernoulliNB"
   ]
  },
  {
   "cell_type": "code",
   "execution_count": 123,
   "id": "0e5044a6-6547-4792-bca0-d8422fde1057",
   "metadata": {},
   "outputs": [],
   "source": [
    "train_and_val = pd.read_csv('train.csv')\n",
    "train, val = train_test_split(train_and_val,test_size=0.3,random_state=42)\n",
    "\n",
    "x_train, y_train = tweet_processing(train)\n",
    "\n",
    "x_val, y_val = tweet_processing(val)"
   ]
  },
  {
   "cell_type": "markdown",
   "id": "95cea4f2-ab67-4843-9eba-0858e519fc26",
   "metadata": {},
   "source": [
    "#### Gaussian Naive Bayes"
   ]
  },
  {
   "cell_type": "code",
   "execution_count": 135,
   "id": "a3be61c8-acd9-4d6e-8204-ed1d6140ba7d",
   "metadata": {},
   "outputs": [
    {
     "name": "stdout",
     "output_type": "stream",
     "text": [
      "Number of mislabeled points out of a total 2284 points : 747\n",
      "Accuracy:  0.6729422066549913\n"
     ]
    }
   ],
   "source": [
    "gnb = GaussianNB()\n",
    "y_pred = gnb.fit(x_train,y_train).predict(x_val)\n",
    "\n",
    "print(\"Number of mislabeled points out of a total %d points : %d\"\n",
    "      % (x_val.shape[0], (y_val != y_pred).sum()))\n",
    "print(\"Accuracy: \", ((y_val == y_pred).sum() / x_val.shape[0])) "
   ]
  },
  {
   "cell_type": "markdown",
   "id": "e24be442-3785-44da-946e-35977e256223",
   "metadata": {},
   "source": [
    "#### Bernoulli Naive Bayes"
   ]
  },
  {
   "cell_type": "code",
   "execution_count": 125,
   "id": "9c0930fe-343b-486f-bb8b-a48fe9d2795f",
   "metadata": {},
   "outputs": [
    {
     "name": "stdout",
     "output_type": "stream",
     "text": [
      "Number of mislabeled points out of a total 3263 points : 825\n",
      "Accuracy:  0.48555166374781084\n"
     ]
    }
   ],
   "source": [
    "bnb = BernoulliNB()\n",
    "y_pred = bnb.fit(x_train,y_train).predict(x_val)\n",
    "print(\"Number of mislabeled points out of a total %d points : %d\"\n",
    "      % (x_test.shape[0], (y_val != y_pred).sum()))\n",
    "print(\"Accuracy: \", ((y_test == y_pred).sum() / x_val.shape[0])) "
   ]
  },
  {
   "cell_type": "markdown",
   "id": "20142e41-b534-40b3-999c-59d96840e048",
   "metadata": {},
   "source": [
    "#### Deep Learning Model"
   ]
  },
  {
   "cell_type": "code",
   "execution_count": 156,
   "id": "ae86be91-e38a-4a06-91e7-2adba53a6b24",
   "metadata": {},
   "outputs": [],
   "source": [
    "from tensorflow import keras\n",
    "from tensorflow.keras import layers\n",
    "\n",
    "from tensorflow.keras.models import Sequential\n",
    "from tensorflow.keras.layers import Dense\n",
    "from scikeras.wrappers import KerasClassifier\n",
    "from sklearn.model_selection import cross_val_score\n",
    "from sklearn.preprocessing import LabelEncoder\n",
    "from sklearn.model_selection import StratifiedKFold\n",
    "from sklearn.preprocessing import StandardScaler\n",
    "from sklearn.pipeline import Pipeline"
   ]
  },
  {
   "cell_type": "code",
   "execution_count": 159,
   "id": "7d621ebd-7f6e-48d8-858e-ff21bdcacded",
   "metadata": {},
   "outputs": [
    {
     "name": "stderr",
     "output_type": "stream",
     "text": [
      "/home/ljones333/miniconda3/envs/chem277b/lib/python3.10/site-packages/keras/src/layers/core/dense.py:87: UserWarning: Do not pass an `input_shape`/`input_dim` argument to a layer. When using Sequential models, prefer using an `Input(shape)` object as the first layer in the model instead.\n",
      "  super().__init__(activity_regularizer=activity_regularizer, **kwargs)\n",
      "/home/ljones333/miniconda3/envs/chem277b/lib/python3.10/site-packages/keras/src/layers/core/dense.py:87: UserWarning: Do not pass an `input_shape`/`input_dim` argument to a layer. When using Sequential models, prefer using an `Input(shape)` object as the first layer in the model instead.\n",
      "  super().__init__(activity_regularizer=activity_regularizer, **kwargs)\n",
      "/home/ljones333/miniconda3/envs/chem277b/lib/python3.10/site-packages/keras/src/layers/core/dense.py:87: UserWarning: Do not pass an `input_shape`/`input_dim` argument to a layer. When using Sequential models, prefer using an `Input(shape)` object as the first layer in the model instead.\n",
      "  super().__init__(activity_regularizer=activity_regularizer, **kwargs)\n",
      "/home/ljones333/miniconda3/envs/chem277b/lib/python3.10/site-packages/keras/src/layers/core/dense.py:87: UserWarning: Do not pass an `input_shape`/`input_dim` argument to a layer. When using Sequential models, prefer using an `Input(shape)` object as the first layer in the model instead.\n",
      "  super().__init__(activity_regularizer=activity_regularizer, **kwargs)\n",
      "/home/ljones333/miniconda3/envs/chem277b/lib/python3.10/site-packages/keras/src/layers/core/dense.py:87: UserWarning: Do not pass an `input_shape`/`input_dim` argument to a layer. When using Sequential models, prefer using an `Input(shape)` object as the first layer in the model instead.\n",
      "  super().__init__(activity_regularizer=activity_regularizer, **kwargs)\n",
      "/home/ljones333/miniconda3/envs/chem277b/lib/python3.10/site-packages/keras/src/layers/core/dense.py:87: UserWarning: Do not pass an `input_shape`/`input_dim` argument to a layer. When using Sequential models, prefer using an `Input(shape)` object as the first layer in the model instead.\n",
      "  super().__init__(activity_regularizer=activity_regularizer, **kwargs)\n",
      "/home/ljones333/miniconda3/envs/chem277b/lib/python3.10/site-packages/keras/src/layers/core/dense.py:87: UserWarning: Do not pass an `input_shape`/`input_dim` argument to a layer. When using Sequential models, prefer using an `Input(shape)` object as the first layer in the model instead.\n",
      "  super().__init__(activity_regularizer=activity_regularizer, **kwargs)\n",
      "/home/ljones333/miniconda3/envs/chem277b/lib/python3.10/site-packages/keras/src/layers/core/dense.py:87: UserWarning: Do not pass an `input_shape`/`input_dim` argument to a layer. When using Sequential models, prefer using an `Input(shape)` object as the first layer in the model instead.\n",
      "  super().__init__(activity_regularizer=activity_regularizer, **kwargs)\n",
      "/home/ljones333/miniconda3/envs/chem277b/lib/python3.10/site-packages/keras/src/layers/core/dense.py:87: UserWarning: Do not pass an `input_shape`/`input_dim` argument to a layer. When using Sequential models, prefer using an `Input(shape)` object as the first layer in the model instead.\n",
      "  super().__init__(activity_regularizer=activity_regularizer, **kwargs)\n",
      "/home/ljones333/miniconda3/envs/chem277b/lib/python3.10/site-packages/keras/src/layers/core/dense.py:87: UserWarning: Do not pass an `input_shape`/`input_dim` argument to a layer. When using Sequential models, prefer using an `Input(shape)` object as the first layer in the model instead.\n",
      "  super().__init__(activity_regularizer=activity_regularizer, **kwargs)\n"
     ]
    },
    {
     "name": "stdout",
     "output_type": "stream",
     "text": [
      "Baseline: 67.09% (1.99%)\n"
     ]
    }
   ],
   "source": [
    "input_shape = [x_train.shape[1]]\n",
    "\n",
    "def create_base_model():\n",
    "    keras_model = keras.Sequential([\n",
    "        layers.Dense(512,activation='relu',input_shape=input_shape),\n",
    "        layers.Dense(1,activation='sigmoid')\n",
    "        ])\n",
    "    \n",
    "    keras_model.compile(\n",
    "        optimizer='adam',\n",
    "        loss='binary_crossentropy',\n",
    "        metrics=['accuracy']\n",
    "        )\n",
    "    return keras_model\n",
    "\n",
    "estimator = KerasClassifier(model=create_base_model,epochs=200,batch_size=50,verbose=0)\n",
    "kfold = StratifiedKFold(n_splits=10,shuffle=True)\n",
    "results = cross_val_score(estimator, x_train, y_train, cv=kfold)\n",
    "print(\"Baseline: %.2f%% (%.2f%%)\" % (results.mean()*100, results.std()*100))"
   ]
  },
  {
   "cell_type": "markdown",
   "id": "d7e72405-65fb-4f63-817d-9b4561ea820d",
   "metadata": {},
   "source": [
    "#### Outputting Predictions"
   ]
  },
  {
   "cell_type": "code",
   "execution_count": 149,
   "id": "143ba265-8b74-47fb-b11d-fa6c42eaf6d2",
   "metadata": {},
   "outputs": [
    {
     "data": {
      "text/html": [
       "<div>\n",
       "<style scoped>\n",
       "    .dataframe tbody tr th:only-of-type {\n",
       "        vertical-align: middle;\n",
       "    }\n",
       "\n",
       "    .dataframe tbody tr th {\n",
       "        vertical-align: top;\n",
       "    }\n",
       "\n",
       "    .dataframe thead th {\n",
       "        text-align: right;\n",
       "    }\n",
       "</style>\n",
       "<table border=\"1\" class=\"dataframe\">\n",
       "  <thead>\n",
       "    <tr style=\"text-align: right;\">\n",
       "      <th></th>\n",
       "      <th>id</th>\n",
       "      <th>target</th>\n",
       "    </tr>\n",
       "  </thead>\n",
       "  <tbody>\n",
       "    <tr>\n",
       "      <th>0</th>\n",
       "      <td>0</td>\n",
       "      <td>1</td>\n",
       "    </tr>\n",
       "    <tr>\n",
       "      <th>1</th>\n",
       "      <td>2</td>\n",
       "      <td>1</td>\n",
       "    </tr>\n",
       "    <tr>\n",
       "      <th>2</th>\n",
       "      <td>3</td>\n",
       "      <td>0</td>\n",
       "    </tr>\n",
       "    <tr>\n",
       "      <th>3</th>\n",
       "      <td>9</td>\n",
       "      <td>1</td>\n",
       "    </tr>\n",
       "    <tr>\n",
       "      <th>4</th>\n",
       "      <td>11</td>\n",
       "      <td>0</td>\n",
       "    </tr>\n",
       "  </tbody>\n",
       "</table>\n",
       "</div>"
      ],
      "text/plain": [
       "   id  target\n",
       "0   0       1\n",
       "1   2       1\n",
       "2   3       0\n",
       "3   9       1\n",
       "4  11       0"
      ]
     },
     "metadata": {},
     "output_type": "display_data"
    }
   ],
   "source": [
    "output_model  = GaussianNB()\n",
    "#output_model = LogisticRegression(solver='sag',max_iter = 1000).fit(x_train,y_train)\n",
    "ids = final_test['id']\n",
    "y_pred = (pd.DataFrame(output_model.fit(x_train,y_train).predict(x_test))\n",
    "          .rename(columns={0:'target'})\n",
    "        )\n",
    "\n",
    "y_pred.insert(0,'id',value=ids)\n",
    "display(y_pred.head())\n",
    "y_pred.to_csv('submission_3.csv',index=False)"
   ]
  },
  {
   "cell_type": "code",
   "execution_count": null,
   "id": "865be70a-7bdd-4bf8-8976-e1d28d07633d",
   "metadata": {},
   "outputs": [],
   "source": []
  }
 ],
 "metadata": {
  "kernelspec": {
   "display_name": "Python 3 (ipykernel)",
   "language": "python",
   "name": "python3"
  },
  "language_info": {
   "codemirror_mode": {
    "name": "ipython",
    "version": 3
   },
   "file_extension": ".py",
   "mimetype": "text/x-python",
   "name": "python",
   "nbconvert_exporter": "python",
   "pygments_lexer": "ipython3",
   "version": "3.10.13"
  }
 },
 "nbformat": 4,
 "nbformat_minor": 5
}
