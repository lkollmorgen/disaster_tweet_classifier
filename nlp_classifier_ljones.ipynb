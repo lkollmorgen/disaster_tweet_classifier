{
 "cells": [
  {
   "cell_type": "markdown",
   "id": "dc2a0527-4cf7-4877-8a83-b2f40598f29d",
   "metadata": {},
   "source": [
    "# NLP Predict Disaster Tweet Classifier"
   ]
  },
  {
   "cell_type": "markdown",
   "id": "a1750ae4-9cfb-4db4-bd50-4b711a743ece",
   "metadata": {},
   "source": [
    "### Notebook Description\n",
    "The following notebook explores a model attempting to classify a set of tweets with the appropriate label: 1 for tweets about real disasters and 0 for tweets not about real disasters."
   ]
  },
  {
   "cell_type": "code",
   "execution_count": 1,
   "id": "5d313ef5-8ab5-456c-b0d7-791ca6fa5648",
   "metadata": {},
   "outputs": [
    {
     "name": "stderr",
     "output_type": "stream",
     "text": [
      "/tmp/ipykernel_1966/1131998491.py:1: DeprecationWarning: \n",
      "Pyarrow will become a required dependency of pandas in the next major release of pandas (pandas 3.0),\n",
      "(to allow more performant data types, such as the Arrow string type, and better interoperability with other libraries)\n",
      "but was not found to be installed on your system.\n",
      "If this would cause problems for you,\n",
      "please provide us feedback at https://github.com/pandas-dev/pandas/issues/54466\n",
      "        \n",
      "  import pandas as pd\n"
     ]
    }
   ],
   "source": [
    "import pandas as pd\n",
    "import numpy as np\n",
    "\n",
    "import seaborn as sns\n",
    "import matplotlib.pyplot as plt\n",
    "from mpl_toolkits.mplot3d import Axes3D\n",
    "from funcs import *\n",
    "import random\n",
    "import math"
   ]
  },
  {
   "cell_type": "markdown",
   "id": "04d51466-545a-493c-9d6d-9b8df0639934",
   "metadata": {},
   "source": [
    "## Data Loading and Analysis"
   ]
  },
  {
   "cell_type": "code",
   "execution_count": 2,
   "id": "b3353df3-30fa-4996-9f9a-78953539694e",
   "metadata": {},
   "outputs": [
    {
     "data": {
      "text/html": [
       "<div>\n",
       "<style scoped>\n",
       "    .dataframe tbody tr th:only-of-type {\n",
       "        vertical-align: middle;\n",
       "    }\n",
       "\n",
       "    .dataframe tbody tr th {\n",
       "        vertical-align: top;\n",
       "    }\n",
       "\n",
       "    .dataframe thead th {\n",
       "        text-align: right;\n",
       "    }\n",
       "</style>\n",
       "<table border=\"1\" class=\"dataframe\">\n",
       "  <thead>\n",
       "    <tr style=\"text-align: right;\">\n",
       "      <th></th>\n",
       "      <th>id</th>\n",
       "      <th>keyword</th>\n",
       "      <th>location</th>\n",
       "      <th>text</th>\n",
       "      <th>target</th>\n",
       "    </tr>\n",
       "  </thead>\n",
       "  <tbody>\n",
       "    <tr>\n",
       "      <th>0</th>\n",
       "      <td>1</td>\n",
       "      <td>NaN</td>\n",
       "      <td>NaN</td>\n",
       "      <td>Our Deeds are the Reason of this #earthquake M...</td>\n",
       "      <td>1</td>\n",
       "    </tr>\n",
       "    <tr>\n",
       "      <th>1</th>\n",
       "      <td>4</td>\n",
       "      <td>NaN</td>\n",
       "      <td>NaN</td>\n",
       "      <td>Forest fire near La Ronge Sask. Canada</td>\n",
       "      <td>1</td>\n",
       "    </tr>\n",
       "    <tr>\n",
       "      <th>2</th>\n",
       "      <td>5</td>\n",
       "      <td>NaN</td>\n",
       "      <td>NaN</td>\n",
       "      <td>All residents asked to 'shelter in place' are ...</td>\n",
       "      <td>1</td>\n",
       "    </tr>\n",
       "    <tr>\n",
       "      <th>3</th>\n",
       "      <td>6</td>\n",
       "      <td>NaN</td>\n",
       "      <td>NaN</td>\n",
       "      <td>13,000 people receive #wildfires evacuation or...</td>\n",
       "      <td>1</td>\n",
       "    </tr>\n",
       "    <tr>\n",
       "      <th>4</th>\n",
       "      <td>7</td>\n",
       "      <td>NaN</td>\n",
       "      <td>NaN</td>\n",
       "      <td>Just got sent this photo from Ruby #Alaska as ...</td>\n",
       "      <td>1</td>\n",
       "    </tr>\n",
       "  </tbody>\n",
       "</table>\n",
       "</div>"
      ],
      "text/plain": [
       "   id keyword location                                               text  \\\n",
       "0   1     NaN      NaN  Our Deeds are the Reason of this #earthquake M...   \n",
       "1   4     NaN      NaN             Forest fire near La Ronge Sask. Canada   \n",
       "2   5     NaN      NaN  All residents asked to 'shelter in place' are ...   \n",
       "3   6     NaN      NaN  13,000 people receive #wildfires evacuation or...   \n",
       "4   7     NaN      NaN  Just got sent this photo from Ruby #Alaska as ...   \n",
       "\n",
       "   target  \n",
       "0       1  \n",
       "1       1  \n",
       "2       1  \n",
       "3       1  \n",
       "4       1  "
      ]
     },
     "metadata": {},
     "output_type": "display_data"
    },
    {
     "name": "stdout",
     "output_type": "stream",
     "text": [
      "7613 entries with 5 features\n"
     ]
    }
   ],
   "source": [
    "tweets = pd.read_csv('train.csv')\n",
    "display(tweets.head(5))\n",
    "number_tweets = tweets.shape[0]\n",
    "print(f'{number_tweets} entries with {tweets.shape[1]} features')"
   ]
  },
  {
   "cell_type": "markdown",
   "id": "8056ec7c-0f15-4fed-904f-e9bf7639bb3e",
   "metadata": {},
   "source": [
    "_The following cell selects 7 tweets at random and displays their text contents as well as target_"
   ]
  },
  {
   "cell_type": "code",
   "execution_count": 3,
   "id": "e17f9123-c2ea-4b51-a779-8549d32c2b4a",
   "metadata": {},
   "outputs": [
    {
     "name": "stdout",
     "output_type": "stream",
     "text": [
      "tweets labeled to describe an actual disaster:  3271\n",
      "tweets labeled NOT to describe an actual disaster:  4342\n"
     ]
    }
   ],
   "source": [
    "#checking for label imbalance\n",
    "num_1 = tweets[tweets['target'] == 1]['target'].count()\n",
    "num_0 = tweets[tweets['target'] == 0]['target'].count()\n",
    "\n",
    "print('tweets labeled to describe an actual disaster: ',num_1)\n",
    "print('tweets labeled NOT to describe an actual disaster: ',num_0)"
   ]
  },
  {
   "cell_type": "code",
   "execution_count": 4,
   "id": "e3431683-2063-4e39-abc2-10fe085876b8",
   "metadata": {},
   "outputs": [
    {
     "name": "stdout",
     "output_type": "stream",
     "text": [
      "location:  2775\n"
     ]
    },
    {
     "data": {
      "text/plain": [
       "'70 Years After Atomic Bombs Japan Still Struggles With War Past: The anniversary of the devastation wrought b... http://t.co/vFCtrzaOk2'"
      ]
     },
     "metadata": {},
     "output_type": "display_data"
    },
    {
     "data": {
      "text/plain": [
       "1"
      ]
     },
     "metadata": {},
     "output_type": "display_data"
    },
    {
     "name": "stdout",
     "output_type": "stream",
     "text": [
      "\n",
      "location:  2290\n"
     ]
    },
    {
     "data": {
      "text/plain": [
       "'Absurdly Ridiculous Men\\x89Ûªs #Fashion To Demolish You #Manhood. http://t.co/vTP8i8QLEn'"
      ]
     },
     "metadata": {},
     "output_type": "display_data"
    },
    {
     "data": {
      "text/plain": [
       "0"
      ]
     },
     "metadata": {},
     "output_type": "display_data"
    },
    {
     "name": "stdout",
     "output_type": "stream",
     "text": [
      "\n",
      "location:  5625\n"
     ]
    },
    {
     "data": {
      "text/plain": [
       "'reaad/ plsss 12000 Nigerian refugees repatriated from Cameroon'"
      ]
     },
     "metadata": {},
     "output_type": "display_data"
    },
    {
     "data": {
      "text/plain": [
       "1"
      ]
     },
     "metadata": {},
     "output_type": "display_data"
    },
    {
     "name": "stdout",
     "output_type": "stream",
     "text": [
      "\n",
      "location:  4325\n"
     ]
    },
    {
     "data": {
      "text/plain": [
       "'0-day bug in fully patched OS X comes under active exploit to hijack Macs http://t.co/sbGiRvQvzb'"
      ]
     },
     "metadata": {},
     "output_type": "display_data"
    },
    {
     "data": {
      "text/plain": [
       "0"
      ]
     },
     "metadata": {},
     "output_type": "display_data"
    },
    {
     "name": "stdout",
     "output_type": "stream",
     "text": [
      "\n",
      "location:  5764\n"
     ]
    },
    {
     "data": {
      "text/plain": [
       "\"'Without an ally near you can't use this skill.' How did you get hired? Really cause it's making every Riot staff member look incompetent.\""
      ]
     },
     "metadata": {},
     "output_type": "display_data"
    },
    {
     "data": {
      "text/plain": [
       "0"
      ]
     },
     "metadata": {},
     "output_type": "display_data"
    },
    {
     "name": "stdout",
     "output_type": "stream",
     "text": [
      "\n",
      "location:  1110\n"
     ]
    },
    {
     "data": {
      "text/plain": [
       "'Shadowflame and the Wraith: Bombed http://t.co/LDBaO0rSuz via @amazon'"
      ]
     },
     "metadata": {},
     "output_type": "display_data"
    },
    {
     "data": {
      "text/plain": [
       "1"
      ]
     },
     "metadata": {},
     "output_type": "display_data"
    },
    {
     "name": "stdout",
     "output_type": "stream",
     "text": [
      "\n",
      "location:  375\n"
     ]
    },
    {
     "data": {
      "text/plain": [
       "'@AP what a violent country get the army involved to help control the killings and bring back peace to the poor people.'"
      ]
     },
     "metadata": {},
     "output_type": "display_data"
    },
    {
     "data": {
      "text/plain": [
       "1"
      ]
     },
     "metadata": {},
     "output_type": "display_data"
    },
    {
     "name": "stdout",
     "output_type": "stream",
     "text": [
      "\n"
     ]
    }
   ],
   "source": [
    "for _ in range(7):\n",
    "    ix = random.randint(0,number_tweets+1)\n",
    "    print('location: ',ix)\n",
    "    tweet = tweets.loc[ix,'text']\n",
    "    display(tweet,tweets.loc[ix,'target'])\n",
    "    # sent_len_ratio = capitals_vs_sentence_len(tweet) \n",
    "    # print(sent_len_ratio)\n",
    "    print()"
   ]
  },
  {
   "cell_type": "markdown",
   "id": "e222eb30-a3d3-46e3-abb9-b748391ef10d",
   "metadata": {},
   "source": [
    "### Data Cleaning"
   ]
  },
  {
   "cell_type": "code",
   "execution_count": 5,
   "id": "19374895-efcb-46b7-b317-dcde8dcdf079",
   "metadata": {},
   "outputs": [
    {
     "data": {
      "text/html": [
       "<div>\n",
       "<style scoped>\n",
       "    .dataframe tbody tr th:only-of-type {\n",
       "        vertical-align: middle;\n",
       "    }\n",
       "\n",
       "    .dataframe tbody tr th {\n",
       "        vertical-align: top;\n",
       "    }\n",
       "\n",
       "    .dataframe thead th {\n",
       "        text-align: right;\n",
       "    }\n",
       "</style>\n",
       "<table border=\"1\" class=\"dataframe\">\n",
       "  <thead>\n",
       "    <tr style=\"text-align: right;\">\n",
       "      <th></th>\n",
       "      <th># of duplicates</th>\n",
       "      <th>keyword</th>\n",
       "      <th>location</th>\n",
       "      <th>sum of target var</th>\n",
       "    </tr>\n",
       "    <tr>\n",
       "      <th>text</th>\n",
       "      <th></th>\n",
       "      <th></th>\n",
       "      <th></th>\n",
       "      <th></th>\n",
       "    </tr>\n",
       "  </thead>\n",
       "  <tbody>\n",
       "    <tr>\n",
       "      <th>like for the music video I want some real action shit like burning buildings and police chases not some weak ben winston shit</th>\n",
       "      <td>2</td>\n",
       "      <td>2</td>\n",
       "      <td>1</td>\n",
       "      <td>2</td>\n",
       "    </tr>\n",
       "    <tr>\n",
       "      <th>Hellfire! We donÛªt even want to think about it or mention it so letÛªs not do anything that leads to it #islam!</th>\n",
       "      <td>2</td>\n",
       "      <td>1</td>\n",
       "      <td>1</td>\n",
       "      <td>2</td>\n",
       "    </tr>\n",
       "    <tr>\n",
       "      <th>The Prophet (peace be upon him) said 'Save yourself from Hellfire even if it is by giving half a date in charity.'</th>\n",
       "      <td>6</td>\n",
       "      <td>1</td>\n",
       "      <td>1</td>\n",
       "      <td>2</td>\n",
       "    </tr>\n",
       "    <tr>\n",
       "      <th>In #islam saving a person is equal in reward to saving all humans! Islam is the opposite of terrorism!</th>\n",
       "      <td>2</td>\n",
       "      <td>1</td>\n",
       "      <td>2</td>\n",
       "      <td>2</td>\n",
       "    </tr>\n",
       "    <tr>\n",
       "      <th>To fight bioterrorism sir.</th>\n",
       "      <td>4</td>\n",
       "      <td>1</td>\n",
       "      <td>0</td>\n",
       "      <td>2</td>\n",
       "    </tr>\n",
       "    <tr>\n",
       "      <th>Who is bringing the tornadoes and floods. Who is bringing the climate change. God is after America He is plaguing her\\n \\n#FARRAKHAN #QUOTE</th>\n",
       "      <td>3</td>\n",
       "      <td>1</td>\n",
       "      <td>0</td>\n",
       "      <td>2</td>\n",
       "    </tr>\n",
       "    <tr>\n",
       "      <th>#foodscare #offers2go #NestleIndia slips into loss after #Magginoodle #ban unsafe and hazardous for #humanconsumption</th>\n",
       "      <td>3</td>\n",
       "      <td>1</td>\n",
       "      <td>2</td>\n",
       "      <td>2</td>\n",
       "    </tr>\n",
       "    <tr>\n",
       "      <th>#Allah describes piling up #wealth thinking it would last #forever as the description of the people of #Hellfire in Surah Humaza. #Reflect</th>\n",
       "      <td>3</td>\n",
       "      <td>1</td>\n",
       "      <td>3</td>\n",
       "      <td>2</td>\n",
       "    </tr>\n",
       "    <tr>\n",
       "      <th>He came to a land which was engulfed in tribal war and turned it into a land of peace i.e. Madinah. #ProphetMuhammad #islam</th>\n",
       "      <td>6</td>\n",
       "      <td>1</td>\n",
       "      <td>2</td>\n",
       "      <td>2</td>\n",
       "    </tr>\n",
       "    <tr>\n",
       "      <th>RT NotExplained: The only known image of infamous hijacker D.B. Cooper. http://t.co/JlzK2HdeTG</th>\n",
       "      <td>2</td>\n",
       "      <td>1</td>\n",
       "      <td>1</td>\n",
       "      <td>2</td>\n",
       "    </tr>\n",
       "    <tr>\n",
       "      <th>Hellfire is surrounded by desires so be careful and donÛªt let your desires control you! #Afterlife</th>\n",
       "      <td>3</td>\n",
       "      <td>1</td>\n",
       "      <td>0</td>\n",
       "      <td>2</td>\n",
       "    </tr>\n",
       "    <tr>\n",
       "      <th>CLEARED:incident with injury:I-495  inner loop Exit 31 - MD 97/Georgia Ave Silver Spring</th>\n",
       "      <td>3</td>\n",
       "      <td>1</td>\n",
       "      <td>0</td>\n",
       "      <td>2</td>\n",
       "    </tr>\n",
       "    <tr>\n",
       "      <th>Mmmmmm I'm burning.... I'm burning buildings I'm building.... Oooooohhhh oooh ooh...</th>\n",
       "      <td>2</td>\n",
       "      <td>2</td>\n",
       "      <td>1</td>\n",
       "      <td>2</td>\n",
       "    </tr>\n",
       "    <tr>\n",
       "      <th>wowo--=== 12000 Nigerian refugees repatriated from Cameroon</th>\n",
       "      <td>2</td>\n",
       "      <td>1</td>\n",
       "      <td>0</td>\n",
       "      <td>2</td>\n",
       "    </tr>\n",
       "    <tr>\n",
       "      <th>.POTUS #StrategicPatience is a strategy for #Genocide; refugees; IDP Internally displaced people; horror; etc. https://t.co/rqWuoy1fm4</th>\n",
       "      <td>4</td>\n",
       "      <td>1</td>\n",
       "      <td>1</td>\n",
       "      <td>2</td>\n",
       "    </tr>\n",
       "    <tr>\n",
       "      <th>Caution: breathing may be hazardous to your health.</th>\n",
       "      <td>2</td>\n",
       "      <td>1</td>\n",
       "      <td>0</td>\n",
       "      <td>2</td>\n",
       "    </tr>\n",
       "    <tr>\n",
       "      <th>I Pledge Allegiance To The P.O.P.E. And The Burning Buildings of Epic City. ??????</th>\n",
       "      <td>2</td>\n",
       "      <td>2</td>\n",
       "      <td>1</td>\n",
       "      <td>2</td>\n",
       "    </tr>\n",
       "    <tr>\n",
       "      <th>that horrible sinking feeling when youÛªve been at home on your phone for a while and you realise its been on 3G this whole time</th>\n",
       "      <td>4</td>\n",
       "      <td>1</td>\n",
       "      <td>2</td>\n",
       "      <td>2</td>\n",
       "    </tr>\n",
       "  </tbody>\n",
       "</table>\n",
       "</div>"
      ],
      "text/plain": [
       "                                                    # of duplicates  keyword  \\\n",
       "text                                                                           \n",
       "like for the music video I want some real actio...                2        2   \n",
       "Hellfire! We donÛªt even want to think about i...                2        1   \n",
       "The Prophet (peace be upon him) said 'Save your...                6        1   \n",
       "In #islam saving a person is equal in reward to...                2        1   \n",
       "To fight bioterrorism sir.                                        4        1   \n",
       "Who is bringing the tornadoes and floods. Who i...                3        1   \n",
       "#foodscare #offers2go #NestleIndia slips into l...                3        1   \n",
       "#Allah describes piling up #wealth thinking it ...                3        1   \n",
       "He came to a land which was engulfed in tribal ...                6        1   \n",
       "RT NotExplained: The only known image of infamo...                2        1   \n",
       "Hellfire is surrounded by desires so be careful...                3        1   \n",
       "CLEARED:incident with injury:I-495  inner loop ...                3        1   \n",
       "Mmmmmm I'm burning.... I'm burning buildings I'...                2        2   \n",
       "wowo--=== 12000 Nigerian refugees repatriated f...                2        1   \n",
       ".POTUS #StrategicPatience is a strategy for #Ge...                4        1   \n",
       "Caution: breathing may be hazardous to your hea...                2        1   \n",
       "I Pledge Allegiance To The P.O.P.E. And The Bur...                2        2   \n",
       "that horrible sinking feeling when youÛªve bee...                4        1   \n",
       "\n",
       "                                                    location  \\\n",
       "text                                                           \n",
       "like for the music video I want some real actio...         1   \n",
       "Hellfire! We donÛªt even want to think about i...         1   \n",
       "The Prophet (peace be upon him) said 'Save your...         1   \n",
       "In #islam saving a person is equal in reward to...         2   \n",
       "To fight bioterrorism sir.                                 0   \n",
       "Who is bringing the tornadoes and floods. Who i...         0   \n",
       "#foodscare #offers2go #NestleIndia slips into l...         2   \n",
       "#Allah describes piling up #wealth thinking it ...         3   \n",
       "He came to a land which was engulfed in tribal ...         2   \n",
       "RT NotExplained: The only known image of infamo...         1   \n",
       "Hellfire is surrounded by desires so be careful...         0   \n",
       "CLEARED:incident with injury:I-495  inner loop ...         0   \n",
       "Mmmmmm I'm burning.... I'm burning buildings I'...         1   \n",
       "wowo--=== 12000 Nigerian refugees repatriated f...         0   \n",
       ".POTUS #StrategicPatience is a strategy for #Ge...         1   \n",
       "Caution: breathing may be hazardous to your hea...         0   \n",
       "I Pledge Allegiance To The P.O.P.E. And The Bur...         1   \n",
       "that horrible sinking feeling when youÛªve bee...         2   \n",
       "\n",
       "                                                    sum of target var  \n",
       "text                                                                   \n",
       "like for the music video I want some real actio...                  2  \n",
       "Hellfire! We donÛªt even want to think about i...                  2  \n",
       "The Prophet (peace be upon him) said 'Save your...                  2  \n",
       "In #islam saving a person is equal in reward to...                  2  \n",
       "To fight bioterrorism sir.                                          2  \n",
       "Who is bringing the tornadoes and floods. Who i...                  2  \n",
       "#foodscare #offers2go #NestleIndia slips into l...                  2  \n",
       "#Allah describes piling up #wealth thinking it ...                  2  \n",
       "He came to a land which was engulfed in tribal ...                  2  \n",
       "RT NotExplained: The only known image of infamo...                  2  \n",
       "Hellfire is surrounded by desires so be careful...                  2  \n",
       "CLEARED:incident with injury:I-495  inner loop ...                  2  \n",
       "Mmmmmm I'm burning.... I'm burning buildings I'...                  2  \n",
       "wowo--=== 12000 Nigerian refugees repatriated f...                  2  \n",
       ".POTUS #StrategicPatience is a strategy for #Ge...                  2  \n",
       "Caution: breathing may be hazardous to your hea...                  2  \n",
       "I Pledge Allegiance To The P.O.P.E. And The Bur...                  2  \n",
       "that horrible sinking feeling when youÛªve bee...                  2  "
      ]
     },
     "execution_count": 5,
     "metadata": {},
     "output_type": "execute_result"
    }
   ],
   "source": [
    "cleaning = tweets.groupby('text').nunique().sort_values(by='target',ascending=False)\n",
    "duplicates = cleaning[cleaning['target'] > 1]\n",
    "duplicates.rename(columns={'id':'# of duplicates','target':'sum of target var'})"
   ]
  },
  {
   "cell_type": "code",
   "execution_count": 6,
   "id": "b9b6c9c8-8d25-457f-a5ed-1919e3e11243",
   "metadata": {},
   "outputs": [],
   "source": [
    "dupe_text_list = duplicates.index \n",
    "dupe_text_list = list(dupe_text_list)\n",
    "# manually make label list to iterate\n",
    "right_labels = [0,0,0,1,0,0,1,0,1,1,1,0,1,1,1,0,0,0]\n",
    "# drop duplicates except for one\n",
    "clean_train_data = tweets.drop_duplicates(subset=['text'], keep='last').reset_index(drop=True)\n",
    "# relabel duplicate rows\n",
    "for i in range(len(dupe_text_list)):\n",
    "    clean_train_data.loc[clean_train_data['text'] == dupe_text_list[i], 'target'] = right_labels[i]"
   ]
  },
  {
   "cell_type": "markdown",
   "id": "9a2affca-ceb6-42df-9597-970c3bfb43b8",
   "metadata": {},
   "source": [
    "### Evaluating Text Features"
   ]
  },
  {
   "cell_type": "markdown",
   "id": "579a78df-2955-42f0-953b-c10c03a62d5a",
   "metadata": {},
   "source": [
    "_The following cell contains words selected to develop the model as well as words that did not prove to be useful_"
   ]
  },
  {
   "cell_type": "code",
   "execution_count": 7,
   "id": "2fa78964-fb02-4a55-9353-e2d83049d3ff",
   "metadata": {},
   "outputs": [],
   "source": [
    "sample_words = [\"'\",'report','after','evacuat','http','hurricane','earthquake','drought','flood','fire','survivor',\\\n",
    "               'storm','terr',':','police','crash','death','casualt','injur','war']\n",
    "# [\"'\",'report','after','evacuation','http','hurricane','earthquake','drought','flood','fire','survivor',\\\n",
    "#                'storm','terr',':','police','crash','death','casualt','injur']\n",
    "\n",
    "useless_words = ['aid','please','information','notify','authorities','body','rescue','response'\\\n",
    "                'civilian','escape','#news','quarantine','explosion','shoot','colli','hostage','terrorist']"
   ]
  },
  {
   "cell_type": "code",
   "execution_count": 8,
   "id": "9f598f6b-8e63-4e73-8f2c-4fd3e7dcb925",
   "metadata": {},
   "outputs": [
    {
     "data": {
      "text/html": [
       "<div>\n",
       "<style scoped>\n",
       "    .dataframe tbody tr th:only-of-type {\n",
       "        vertical-align: middle;\n",
       "    }\n",
       "\n",
       "    .dataframe tbody tr th {\n",
       "        vertical-align: top;\n",
       "    }\n",
       "\n",
       "    .dataframe thead th {\n",
       "        text-align: right;\n",
       "    }\n",
       "</style>\n",
       "<table border=\"1\" class=\"dataframe\">\n",
       "  <thead>\n",
       "    <tr style=\"text-align: right;\">\n",
       "      <th></th>\n",
       "      <th>'</th>\n",
       "      <th>report</th>\n",
       "      <th>after</th>\n",
       "      <th>evacuat</th>\n",
       "      <th>http</th>\n",
       "      <th>hurricane</th>\n",
       "      <th>earthquake</th>\n",
       "      <th>drought</th>\n",
       "      <th>flood</th>\n",
       "      <th>fire</th>\n",
       "      <th>survivor</th>\n",
       "      <th>storm</th>\n",
       "      <th>terr</th>\n",
       "      <th>:</th>\n",
       "      <th>police</th>\n",
       "      <th>crash</th>\n",
       "      <th>death</th>\n",
       "      <th>casualt</th>\n",
       "      <th>injur</th>\n",
       "      <th>war</th>\n",
       "    </tr>\n",
       "  </thead>\n",
       "  <tbody>\n",
       "    <tr>\n",
       "      <th>0</th>\n",
       "      <td>0.0</td>\n",
       "      <td>0.0</td>\n",
       "      <td>0.0</td>\n",
       "      <td>0.0</td>\n",
       "      <td>0.0</td>\n",
       "      <td>0.0</td>\n",
       "      <td>1.0</td>\n",
       "      <td>0.0</td>\n",
       "      <td>0.0</td>\n",
       "      <td>0.0</td>\n",
       "      <td>0.0</td>\n",
       "      <td>0.0</td>\n",
       "      <td>0.0</td>\n",
       "      <td>0.0</td>\n",
       "      <td>0.0</td>\n",
       "      <td>0.0</td>\n",
       "      <td>0.0</td>\n",
       "      <td>0.0</td>\n",
       "      <td>0.0</td>\n",
       "      <td>0.0</td>\n",
       "    </tr>\n",
       "  </tbody>\n",
       "</table>\n",
       "</div>"
      ],
      "text/plain": [
       "     ' report after evacuat http hurricane earthquake drought flood fire  \\\n",
       "0  0.0    0.0   0.0     0.0  0.0       0.0        1.0     0.0   0.0  0.0   \n",
       "\n",
       "  survivor storm terr    : police crash death casualt injur  war  \n",
       "0      0.0   0.0  0.0  0.0    0.0   0.0   0.0     0.0   0.0  0.0  "
      ]
     },
     "execution_count": 8,
     "metadata": {},
     "output_type": "execute_result"
    }
   ],
   "source": [
    "feats = pd.DataFrame()\n",
    "labels = tweets['target']\n",
    "\n",
    "feats.loc[:, sample_words] = words_in_texts(sample_words, tweets['text'])\n",
    "feats.head(1)"
   ]
  },
  {
   "cell_type": "code",
   "execution_count": 9,
   "id": "23034a6c-0f82-4f29-af27-fa994da37150",
   "metadata": {},
   "outputs": [
    {
     "data": {
      "image/png": "[encoded data removed]",
      "text/plain": [
       "<Figure size 640x480 with 1 Axes>"
      ]
     },
     "metadata": {},
     "output_type": "display_data"
    }
   ],
   "source": [
    "eda_df = feats.join(labels)\n",
    "graph_comparison = pd.DataFrame(eda_df.groupby('target').mean()).unstack(0).plot.barh();"
   ]
  },
  {
   "cell_type": "code",
   "execution_count": 10,
   "id": "22ee68a4-f6b1-4f96-b2bf-85f8eb2ca79e",
   "metadata": {},
   "outputs": [
    {
     "name": "stderr",
     "output_type": "stream",
     "text": [
      "/tmp/ipykernel_1966/654379560.py:2: FutureWarning: \n",
      "\n",
      "Passing `palette` without assigning `hue` is deprecated and will be removed in v0.14.0. Assign the `x` variable to `hue` and set `legend=False` for the same effect.\n",
      "\n",
      "  sns.barplot(eda_df, x='target',y='email len',palette={'0':'r','1':'g'});\n",
      "/home/ljones333/miniconda3/envs/chem277b/lib/python3.10/site-packages/seaborn/_base.py:949: FutureWarning: When grouping with a length-1 list-like, you will need to pass a length-1 tuple to get_group in a future version of pandas. Pass `(name,)` instead of `name` to silence this warning.\n",
      "  data_subset = grouped_data.get_group(pd_key)\n",
      "/home/ljones333/miniconda3/envs/chem277b/lib/python3.10/site-packages/seaborn/_base.py:949: FutureWarning: When grouping with a length-1 list-like, you will need to pass a length-1 tuple to get_group in a future version of pandas. Pass `(name,)` instead of `name` to silence this warning.\n",
      "  data_subset = grouped_data.get_group(pd_key)\n"
     ]
    },
    {
     "data": {
      "image/png": "[encoded data removed]",
      "text/plain": [
       "<Figure size 640x480 with 1 Axes>"
      ]
     },
     "metadata": {},
     "output_type": "display_data"
    }
   ],
   "source": [
    "eda_df['email len'] = [len(tweet) for tweet in tweets['text']]\n",
    "sns.barplot(eda_df, x='target',y='email len',palette={'0':'r','1':'g'});"
   ]
  },
  {
   "cell_type": "markdown",
   "id": "7769db89-4af5-4f28-815d-683264e9d4de",
   "metadata": {},
   "source": [
    "#### Testing meta feature functions as defined in `funcs.py`"
   ]
  },
  {
   "cell_type": "code",
   "execution_count": 22,
   "id": "028030a0-6d05-4531-a20b-17ea6f801010",
   "metadata": {},
   "outputs": [],
   "source": [
    "sample_sentence1 = \"why is my model attaining low accuracy??.\"\n",
    "sample_sentence2 = \"Model by Laura Kollmorgen seems to only attain \\\n",
    "a mediocre accuracy LOL.....00\""
   ]
  },
  {
   "cell_type": "code",
   "execution_count": 23,
   "id": "9cee0538-8026-46e3-873e-f33e5b847617",
   "metadata": {},
   "outputs": [],
   "source": [
    "assert capitals_vs_sentence_len(sample_sentence1) == 0\n",
    "assert capitals_vs_sentence_len(sample_sentence2) > 0"
   ]
  },
  {
   "cell_type": "code",
   "execution_count": 24,
   "id": "a165c187-a570-4fa9-96c3-b76214a413a0",
   "metadata": {},
   "outputs": [],
   "source": [
    "assert count_periods(sample_sentence1) == 1\n",
    "assert count_periods(sample_sentence2) == 5"
   ]
  },
  {
   "cell_type": "code",
   "execution_count": 25,
   "id": "116d7fbc-48c0-4a8d-b130-8079d54a7ab0",
   "metadata": {},
   "outputs": [],
   "source": [
    "assert count_digits(sample_sentence1) == 0\n",
    "assert count_digits(sample_sentence2) == 2"
   ]
  },
  {
   "cell_type": "markdown",
   "id": "1d8ec39d-b731-4969-891c-35e94483a5f8",
   "metadata": {},
   "source": [
    "_The above EDA was useful in identifying features from the tweets that could contribute to our classifier model_"
   ]
  },
  {
   "cell_type": "markdown",
   "id": "a41b1fe0-6cc9-49d9-a18e-2dde073a4662",
   "metadata": {},
   "source": [
    "## Modeling"
   ]
  },
  {
   "cell_type": "code",
   "execution_count": 44,
   "id": "0f057ea8-603b-4dc8-9111-344a5941926d",
   "metadata": {},
   "outputs": [],
   "source": [
    "#imports\n",
    "from sklearn.linear_model import LogisticRegression\n",
    "from sklearn.ensemble import RandomForestClassifier\n",
    "from sklearn.svm import LinearSVC\n",
    "\n",
    "from sklearn.metrics import accuracy_score, roc_curve, confusion_matrix\n",
    "from sklearn.decomposition import PCA\n",
    "from sklearn.model_selection import train_test_split\n",
    "from sklearn.preprocessing import StandardScaler\n",
    "\n",
    "#misc\n",
    "import string\n",
    "import pickle"
   ]
  },
  {
   "cell_type": "code",
   "execution_count": 45,
   "id": "7bb36f32-0b32-45f1-b212-f09384510c20",
   "metadata": {},
   "outputs": [],
   "source": [
    "def tweet_processing(df):\n",
    "    if df.ndim < 2:\n",
    "        raise('Yo this df is too small')\n",
    "        \n",
    "    #words initially evaluated to become features\n",
    "    word_features = [\"'\",'report','after','evacuat','http','hurricane','earthquake','drought','flood','fire','survivor',\\\n",
    "               'storm','terr',':','police','crash','death','casualt','injur','war']\n",
    "    \n",
    "    map = dict(zip(range(0,len(word_features)),word_features))\n",
    "    \n",
    "    #initializing dataframe from words in texts\n",
    "    x_df = (pd.DataFrame(words_in_texts(word_features, df['text']))\n",
    "           .rename(columns=map))\n",
    "\n",
    "    #adding ratio for words/sentence length\n",
    "    x_df['capitals vs. sentence length'] = (df['text']\n",
    "                                            .apply(lambda x: capitals_vs_sentence_len(x))\n",
    "                                            .values)\n",
    "\n",
    "    # adding punctuation count\n",
    "    x_df['num_punctuation'] = (df['text']\n",
    "                                .apply(lambda x: len([c for c in str(x) if c in string.punctuation])))\n",
    "\n",
    "    # adding digit count\n",
    "    x_df['num digits'] = (df['text']\n",
    "                                .apply(lambda x: count_digits(x))\n",
    "                                .values)    \n",
    "    #optional scaling data\n",
    "    #x_scaled = StandardScaler().fit_transform(x_df)\n",
    "    \n",
    "    if 'target' in df.columns:\n",
    "        # return x_scaled, df['target']\n",
    "        return x_df, df['target']\n",
    "    else:\n",
    "        # return x_scaled, 0\n",
    "        return x_df, 0"
   ]
  },
  {
   "cell_type": "code",
   "execution_count": 46,
   "id": "2d9f253c-e454-42dc-9dab-b3197395d0c9",
   "metadata": {},
   "outputs": [],
   "source": [
    "# def tweet_processing(df):\n",
    "#     if df.ndim < 2:\n",
    "#         raise('Yo this df is too small')\n",
    "        \n",
    "#     #words initially evaluated to become features\n",
    "#     word_features = [\"'\",'report','after','evacuat','http','hurricane','earthquake','drought','flood','fire','survivor',\\\n",
    "#                'storm','terr',':','police','crash','death','casualt','injur','war']\n",
    "    \n",
    "#     map = dict(zip(range(0,len(word_features)),word_features))\n",
    "    \n",
    "#     #initializing dataframe from words in texts\n",
    "#     x_df = (pd.DataFrame(words_in_texts(word_features, df['text']))\n",
    "#            .rename(columns=map))\n",
    "\n",
    "#     #adding ratio for words/sentence length\n",
    "#     x_df['capitals vs. sentence length'] = (df['text']\n",
    "#                                             .apply(lambda x: capitals_vs_sentence_len(x))\n",
    "#                                             .values)\n",
    "\n",
    "#     # # adding period count. This function actually decreases the model accuracy\n",
    "#     # x_df['sentence periods'] = (df['text']\n",
    "#     #                             .apply(lambda x: count_periods(x))\n",
    "#     #                             .values)\n",
    "\n",
    "#     # adding digit count\n",
    "#     x_df['num digits'] = (df['text']\n",
    "#                                 .apply(lambda x: count_digits(x))\n",
    "#                                 .values)    \n",
    "#     #optional scaling data\n",
    "#     #x_scaled = StandardScaler().fit_transform(x_df)\n",
    "    \n",
    "#     if 'target' in df.columns:\n",
    "#         # return x_scaled, df['target']\n",
    "#         return x_df, df['target']\n",
    "#     else:\n",
    "#         # return x_scaled, 0\n",
    "#         return x_df, 0"
   ]
  },
  {
   "cell_type": "code",
   "execution_count": 55,
   "id": "662fd26f-ecd9-4374-bc2e-6759cd388502",
   "metadata": {},
   "outputs": [],
   "source": [
    "train_and_val = pd.read_csv('train.csv')\n",
    "#splitting the training data into validation data\n",
    "train, val = train_test_split(train_and_val,test_size=0.3,random_state=42)\n",
    "test = pd.read_csv('test.csv')\n",
    "# print(f'len train df: {train.shape[0]}\\nlen val df: {val.shape[0]}\\nlen test df: {final_test.shape[0]}')\n",
    "# print()\n",
    "\n",
    "# x_train, y_train = tweet_processing(train)\n",
    "\n",
    "# x_val, y_val = tweet_processing(val)\n",
    "\n",
    "# x_test, y_test = tweet_processing(final_test)"
   ]
  },
  {
   "cell_type": "markdown",
   "id": "feb321b7-8c9b-4164-8669-94577ffb92fa",
   "metadata": {},
   "source": [
    "#### Creating and pickling datasets"
   ]
  },
  {
   "cell_type": "code",
   "execution_count": 61,
   "id": "abd5f48f-0846-4d76-86c5-ca068b0799f4",
   "metadata": {},
   "outputs": [
    {
     "data": {
      "text/html": [
       "<div>\n",
       "<style scoped>\n",
       "    .dataframe tbody tr th:only-of-type {\n",
       "        vertical-align: middle;\n",
       "    }\n",
       "\n",
       "    .dataframe tbody tr th {\n",
       "        vertical-align: top;\n",
       "    }\n",
       "\n",
       "    .dataframe thead th {\n",
       "        text-align: right;\n",
       "    }\n",
       "</style>\n",
       "<table border=\"1\" class=\"dataframe\">\n",
       "  <thead>\n",
       "    <tr style=\"text-align: right;\">\n",
       "      <th></th>\n",
       "      <th>'</th>\n",
       "      <th>report</th>\n",
       "      <th>after</th>\n",
       "      <th>evacuat</th>\n",
       "      <th>http</th>\n",
       "      <th>hurricane</th>\n",
       "      <th>earthquake</th>\n",
       "      <th>drought</th>\n",
       "      <th>flood</th>\n",
       "      <th>fire</th>\n",
       "      <th>...</th>\n",
       "      <th>:</th>\n",
       "      <th>police</th>\n",
       "      <th>crash</th>\n",
       "      <th>death</th>\n",
       "      <th>casualt</th>\n",
       "      <th>injur</th>\n",
       "      <th>war</th>\n",
       "      <th>capitals vs. sentence length</th>\n",
       "      <th>num_punctuation</th>\n",
       "      <th>num digits</th>\n",
       "    </tr>\n",
       "  </thead>\n",
       "  <tbody>\n",
       "    <tr>\n",
       "      <th>0</th>\n",
       "      <td>0.0</td>\n",
       "      <td>0.0</td>\n",
       "      <td>0.0</td>\n",
       "      <td>0.0</td>\n",
       "      <td>0.0</td>\n",
       "      <td>0.0</td>\n",
       "      <td>0.0</td>\n",
       "      <td>0.0</td>\n",
       "      <td>0.0</td>\n",
       "      <td>0.0</td>\n",
       "      <td>...</td>\n",
       "      <td>0.0</td>\n",
       "      <td>0.0</td>\n",
       "      <td>1.0</td>\n",
       "      <td>0.0</td>\n",
       "      <td>0.0</td>\n",
       "      <td>0.0</td>\n",
       "      <td>0.0</td>\n",
       "      <td>0.029412</td>\n",
       "      <td>0</td>\n",
       "      <td>0</td>\n",
       "    </tr>\n",
       "    <tr>\n",
       "      <th>1</th>\n",
       "      <td>0.0</td>\n",
       "      <td>0.0</td>\n",
       "      <td>0.0</td>\n",
       "      <td>0.0</td>\n",
       "      <td>0.0</td>\n",
       "      <td>0.0</td>\n",
       "      <td>1.0</td>\n",
       "      <td>0.0</td>\n",
       "      <td>0.0</td>\n",
       "      <td>0.0</td>\n",
       "      <td>...</td>\n",
       "      <td>0.0</td>\n",
       "      <td>0.0</td>\n",
       "      <td>0.0</td>\n",
       "      <td>0.0</td>\n",
       "      <td>0.0</td>\n",
       "      <td>0.0</td>\n",
       "      <td>0.0</td>\n",
       "      <td>0.015625</td>\n",
       "      <td>3</td>\n",
       "      <td>0</td>\n",
       "    </tr>\n",
       "    <tr>\n",
       "      <th>2</th>\n",
       "      <td>0.0</td>\n",
       "      <td>0.0</td>\n",
       "      <td>0.0</td>\n",
       "      <td>0.0</td>\n",
       "      <td>0.0</td>\n",
       "      <td>0.0</td>\n",
       "      <td>0.0</td>\n",
       "      <td>0.0</td>\n",
       "      <td>0.0</td>\n",
       "      <td>1.0</td>\n",
       "      <td>...</td>\n",
       "      <td>0.0</td>\n",
       "      <td>0.0</td>\n",
       "      <td>0.0</td>\n",
       "      <td>0.0</td>\n",
       "      <td>0.0</td>\n",
       "      <td>0.0</td>\n",
       "      <td>0.0</td>\n",
       "      <td>0.010417</td>\n",
       "      <td>2</td>\n",
       "      <td>0</td>\n",
       "    </tr>\n",
       "    <tr>\n",
       "      <th>3</th>\n",
       "      <td>0.0</td>\n",
       "      <td>0.0</td>\n",
       "      <td>0.0</td>\n",
       "      <td>0.0</td>\n",
       "      <td>0.0</td>\n",
       "      <td>0.0</td>\n",
       "      <td>0.0</td>\n",
       "      <td>0.0</td>\n",
       "      <td>0.0</td>\n",
       "      <td>1.0</td>\n",
       "      <td>...</td>\n",
       "      <td>0.0</td>\n",
       "      <td>0.0</td>\n",
       "      <td>0.0</td>\n",
       "      <td>0.0</td>\n",
       "      <td>0.0</td>\n",
       "      <td>0.0</td>\n",
       "      <td>0.0</td>\n",
       "      <td>0.050000</td>\n",
       "      <td>3</td>\n",
       "      <td>0</td>\n",
       "    </tr>\n",
       "    <tr>\n",
       "      <th>4</th>\n",
       "      <td>0.0</td>\n",
       "      <td>0.0</td>\n",
       "      <td>0.0</td>\n",
       "      <td>0.0</td>\n",
       "      <td>0.0</td>\n",
       "      <td>0.0</td>\n",
       "      <td>0.0</td>\n",
       "      <td>0.0</td>\n",
       "      <td>0.0</td>\n",
       "      <td>0.0</td>\n",
       "      <td>...</td>\n",
       "      <td>0.0</td>\n",
       "      <td>0.0</td>\n",
       "      <td>0.0</td>\n",
       "      <td>0.0</td>\n",
       "      <td>0.0</td>\n",
       "      <td>0.0</td>\n",
       "      <td>0.0</td>\n",
       "      <td>0.088889</td>\n",
       "      <td>0</td>\n",
       "      <td>2</td>\n",
       "    </tr>\n",
       "    <tr>\n",
       "      <th>...</th>\n",
       "      <td>...</td>\n",
       "      <td>...</td>\n",
       "      <td>...</td>\n",
       "      <td>...</td>\n",
       "      <td>...</td>\n",
       "      <td>...</td>\n",
       "      <td>...</td>\n",
       "      <td>...</td>\n",
       "      <td>...</td>\n",
       "      <td>...</td>\n",
       "      <td>...</td>\n",
       "      <td>...</td>\n",
       "      <td>...</td>\n",
       "      <td>...</td>\n",
       "      <td>...</td>\n",
       "      <td>...</td>\n",
       "      <td>...</td>\n",
       "      <td>...</td>\n",
       "      <td>...</td>\n",
       "      <td>...</td>\n",
       "      <td>...</td>\n",
       "    </tr>\n",
       "    <tr>\n",
       "      <th>3258</th>\n",
       "      <td>0.0</td>\n",
       "      <td>0.0</td>\n",
       "      <td>0.0</td>\n",
       "      <td>0.0</td>\n",
       "      <td>0.0</td>\n",
       "      <td>0.0</td>\n",
       "      <td>1.0</td>\n",
       "      <td>0.0</td>\n",
       "      <td>0.0</td>\n",
       "      <td>0.0</td>\n",
       "      <td>...</td>\n",
       "      <td>0.0</td>\n",
       "      <td>0.0</td>\n",
       "      <td>0.0</td>\n",
       "      <td>0.0</td>\n",
       "      <td>0.0</td>\n",
       "      <td>0.0</td>\n",
       "      <td>0.0</td>\n",
       "      <td>0.781818</td>\n",
       "      <td>0</td>\n",
       "      <td>0</td>\n",
       "    </tr>\n",
       "    <tr>\n",
       "      <th>3259</th>\n",
       "      <td>0.0</td>\n",
       "      <td>0.0</td>\n",
       "      <td>0.0</td>\n",
       "      <td>0.0</td>\n",
       "      <td>0.0</td>\n",
       "      <td>1.0</td>\n",
       "      <td>0.0</td>\n",
       "      <td>0.0</td>\n",
       "      <td>0.0</td>\n",
       "      <td>0.0</td>\n",
       "      <td>...</td>\n",
       "      <td>0.0</td>\n",
       "      <td>0.0</td>\n",
       "      <td>0.0</td>\n",
       "      <td>0.0</td>\n",
       "      <td>0.0</td>\n",
       "      <td>0.0</td>\n",
       "      <td>0.0</td>\n",
       "      <td>0.050360</td>\n",
       "      <td>5</td>\n",
       "      <td>6</td>\n",
       "    </tr>\n",
       "    <tr>\n",
       "      <th>3260</th>\n",
       "      <td>0.0</td>\n",
       "      <td>0.0</td>\n",
       "      <td>0.0</td>\n",
       "      <td>0.0</td>\n",
       "      <td>1.0</td>\n",
       "      <td>0.0</td>\n",
       "      <td>0.0</td>\n",
       "      <td>0.0</td>\n",
       "      <td>0.0</td>\n",
       "      <td>0.0</td>\n",
       "      <td>...</td>\n",
       "      <td>1.0</td>\n",
       "      <td>0.0</td>\n",
       "      <td>0.0</td>\n",
       "      <td>0.0</td>\n",
       "      <td>0.0</td>\n",
       "      <td>0.0</td>\n",
       "      <td>0.0</td>\n",
       "      <td>0.163636</td>\n",
       "      <td>5</td>\n",
       "      <td>0</td>\n",
       "    </tr>\n",
       "    <tr>\n",
       "      <th>3261</th>\n",
       "      <td>0.0</td>\n",
       "      <td>0.0</td>\n",
       "      <td>0.0</td>\n",
       "      <td>0.0</td>\n",
       "      <td>1.0</td>\n",
       "      <td>0.0</td>\n",
       "      <td>0.0</td>\n",
       "      <td>0.0</td>\n",
       "      <td>0.0</td>\n",
       "      <td>0.0</td>\n",
       "      <td>...</td>\n",
       "      <td>1.0</td>\n",
       "      <td>0.0</td>\n",
       "      <td>0.0</td>\n",
       "      <td>0.0</td>\n",
       "      <td>0.0</td>\n",
       "      <td>0.0</td>\n",
       "      <td>0.0</td>\n",
       "      <td>0.230769</td>\n",
       "      <td>7</td>\n",
       "      <td>3</td>\n",
       "    </tr>\n",
       "    <tr>\n",
       "      <th>3262</th>\n",
       "      <td>0.0</td>\n",
       "      <td>0.0</td>\n",
       "      <td>0.0</td>\n",
       "      <td>0.0</td>\n",
       "      <td>0.0</td>\n",
       "      <td>0.0</td>\n",
       "      <td>0.0</td>\n",
       "      <td>0.0</td>\n",
       "      <td>0.0</td>\n",
       "      <td>0.0</td>\n",
       "      <td>...</td>\n",
       "      <td>0.0</td>\n",
       "      <td>0.0</td>\n",
       "      <td>0.0</td>\n",
       "      <td>0.0</td>\n",
       "      <td>0.0</td>\n",
       "      <td>0.0</td>\n",
       "      <td>0.0</td>\n",
       "      <td>0.073529</td>\n",
       "      <td>3</td>\n",
       "      <td>0</td>\n",
       "    </tr>\n",
       "  </tbody>\n",
       "</table>\n",
       "<p>3263 rows × 23 columns</p>\n",
       "</div>"
      ],
      "text/plain": [
       "        '  report  after  evacuat  http  hurricane  earthquake  drought  \\\n",
       "0     0.0     0.0    0.0      0.0   0.0        0.0         0.0      0.0   \n",
       "1     0.0     0.0    0.0      0.0   0.0        0.0         1.0      0.0   \n",
       "2     0.0     0.0    0.0      0.0   0.0        0.0         0.0      0.0   \n",
       "3     0.0     0.0    0.0      0.0   0.0        0.0         0.0      0.0   \n",
       "4     0.0     0.0    0.0      0.0   0.0        0.0         0.0      0.0   \n",
       "...   ...     ...    ...      ...   ...        ...         ...      ...   \n",
       "3258  0.0     0.0    0.0      0.0   0.0        0.0         1.0      0.0   \n",
       "3259  0.0     0.0    0.0      0.0   0.0        1.0         0.0      0.0   \n",
       "3260  0.0     0.0    0.0      0.0   1.0        0.0         0.0      0.0   \n",
       "3261  0.0     0.0    0.0      0.0   1.0        0.0         0.0      0.0   \n",
       "3262  0.0     0.0    0.0      0.0   0.0        0.0         0.0      0.0   \n",
       "\n",
       "      flood  fire  ...    :  police  crash  death  casualt  injur  war  \\\n",
       "0       0.0   0.0  ...  0.0     0.0    1.0    0.0      0.0    0.0  0.0   \n",
       "1       0.0   0.0  ...  0.0     0.0    0.0    0.0      0.0    0.0  0.0   \n",
       "2       0.0   1.0  ...  0.0     0.0    0.0    0.0      0.0    0.0  0.0   \n",
       "3       0.0   1.0  ...  0.0     0.0    0.0    0.0      0.0    0.0  0.0   \n",
       "4       0.0   0.0  ...  0.0     0.0    0.0    0.0      0.0    0.0  0.0   \n",
       "...     ...   ...  ...  ...     ...    ...    ...      ...    ...  ...   \n",
       "3258    0.0   0.0  ...  0.0     0.0    0.0    0.0      0.0    0.0  0.0   \n",
       "3259    0.0   0.0  ...  0.0     0.0    0.0    0.0      0.0    0.0  0.0   \n",
       "3260    0.0   0.0  ...  1.0     0.0    0.0    0.0      0.0    0.0  0.0   \n",
       "3261    0.0   0.0  ...  1.0     0.0    0.0    0.0      0.0    0.0  0.0   \n",
       "3262    0.0   0.0  ...  0.0     0.0    0.0    0.0      0.0    0.0  0.0   \n",
       "\n",
       "      capitals vs. sentence length  num_punctuation  num digits  \n",
       "0                         0.029412                0           0  \n",
       "1                         0.015625                3           0  \n",
       "2                         0.010417                2           0  \n",
       "3                         0.050000                3           0  \n",
       "4                         0.088889                0           2  \n",
       "...                            ...              ...         ...  \n",
       "3258                      0.781818                0           0  \n",
       "3259                      0.050360                5           6  \n",
       "3260                      0.163636                5           0  \n",
       "3261                      0.230769                7           3  \n",
       "3262                      0.073529                3           0  \n",
       "\n",
       "[3263 rows x 23 columns]"
      ]
     },
     "metadata": {},
     "output_type": "display_data"
    }
   ],
   "source": [
    "#recall that our cleaned dataset was clean_train_data\n",
    "final_train_x, final_train_y = tweet_processing(clean_train_data)\n",
    "final_test, trash = tweet_processing(test)\n",
    "display(pd.DataFrame(final_test))"
   ]
  },
  {
   "cell_type": "markdown",
   "id": "b9d09613-d116-4d1f-a106-6f1335e2d59a",
   "metadata": {},
   "source": [
    "Saving files as pickles....?"
   ]
  },
  {
   "cell_type": "code",
   "execution_count": 62,
   "id": "207b9904-54ba-4a42-aed5-040779205ba3",
   "metadata": {},
   "outputs": [],
   "source": [
    "final_train_x.to_pickle(\"./pickles/final_train_x.pkl\")\n",
    "final_test.to_pickle(\"./pickles/final_test.pkl\")"
   ]
  },
  {
   "cell_type": "markdown",
   "id": "f372c320-3ac3-4242-9836-04ff7439938f",
   "metadata": {},
   "source": [
    "### Baseline Model Results"
   ]
  },
  {
   "cell_type": "code",
   "execution_count": 18,
   "id": "2a561aeb-5c7b-4fd2-9358-3a91ae6453ec",
   "metadata": {},
   "outputs": [
    {
     "name": "stdout",
     "output_type": "stream",
     "text": [
      "0.6900175131348512 0.6335376532399299 0.6900175131348512\n"
     ]
    }
   ],
   "source": [
    "log_model = LogisticRegression(solver='sag',max_iter = 1000).fit(x_train,y_train)\n",
    "# (best parameters)  {'C': 1.0, 'fit_intercept': True, 'max_iter': 100, 'solver': 'sag'}\n",
    "forest_model = RandomForestClassifier(n_estimators=100,random_state=42).fit(x_train,y_train)\n",
    "linear_model = LinearSVC(random_state = 42).fit(x_train,y_train)\n",
    "\n",
    "log_score = log_model.score(x_val,y_val)\n",
    "forest_score = forest_model.score(x_val,y_val)\n",
    "linear_score = linear_model.score(x_val,y_val)\n",
    "\n",
    "print(log_score,forest_score, linear_score)"
   ]
  },
  {
   "cell_type": "markdown",
   "id": "b22537fe-32fe-481f-b0d2-2e4fd407ff4a",
   "metadata": {},
   "source": [
    "_The above scores measure the baseline capabilities of the logistic regression and random forest classifier models_"
   ]
  },
  {
   "cell_type": "markdown",
   "id": "bde06b47-2149-4658-91f9-f7f4224c6063",
   "metadata": {},
   "source": [
    "### Model Tuning"
   ]
  },
  {
   "cell_type": "markdown",
   "id": "df73ab2c-cc39-4bcf-90d8-073827edeff1",
   "metadata": {},
   "source": [
    "#### PCA"
   ]
  },
  {
   "cell_type": "code",
   "execution_count": 19,
   "id": "dc441e69-e1dd-4449-ac30-1e1d7358d7ad",
   "metadata": {},
   "outputs": [
    {
     "name": "stdout",
     "output_type": "stream",
     "text": [
      "Variance Ratio By Component:  [0.9037362  0.04025917 0.01829525]\n"
     ]
    },
    {
     "data": {
      "image/png": "[encoded data removed]",
      "text/plain": [
       "<Figure size 700x700 with 1 Axes>"
      ]
     },
     "metadata": {},
     "output_type": "display_data"
    }
   ],
   "source": [
    "#3 principal components\n",
    "pca = PCA(n_components=3).fit(x_train)\n",
    "pca_feats = pca.transform(x_train)\n",
    "\n",
    "# print(pca.components_)\n",
    "fig = plt.figure(figsize=(7,7))\n",
    "axis=fig.add_subplot(111,projection='3d')\n",
    "axis.scatter(pca_feats[:,0],pca_feats[:,1],pca_feats[:,2],\\\n",
    "             c=y_train);\n",
    "\n",
    "print('Variance Ratio By Component: ', pca.explained_variance_ratio_)"
   ]
  },
  {
   "cell_type": "code",
   "execution_count": 20,
   "id": "0c4e882e-bb9a-4162-ab3a-047de848169c",
   "metadata": {},
   "outputs": [
    {
     "name": "stdout",
     "output_type": "stream",
     "text": [
      "Variance Ratio By Component:  [0.9037362  0.04025917]\n"
     ]
    },
    {
     "data": {
      "image/png": "[encoded data removed]",
      "text/plain": [
       "<Figure size 640x480 with 1 Axes>"
      ]
     },
     "metadata": {},
     "output_type": "display_data"
    }
   ],
   "source": [
    "#2 principal components\n",
    "pca = PCA(n_components=2).fit(x_train)\n",
    "pca_feats = pca.transform(x_train)\n",
    "\n",
    "plt.scatter(pca_feats[:,0],pca_feats[:,1], c=y_train);\n",
    "\n",
    "print('Variance Ratio By Component: ', pca.explained_variance_ratio_)"
   ]
  },
  {
   "cell_type": "markdown",
   "id": "15ca6012-25a1-4ef1-b25f-dca8de3b1d52",
   "metadata": {},
   "source": [
    "#### Modeling using PCA"
   ]
  },
  {
   "cell_type": "code",
   "execution_count": 21,
   "id": "41c2d1e0-278e-4c76-8271-4425ab27a75d",
   "metadata": {},
   "outputs": [
    {
     "name": "stdout",
     "output_type": "stream",
     "text": [
      "0.6322241681260946 0.6208406304728546 0.6317863397548161\n"
     ]
    }
   ],
   "source": [
    "pca_val_x = pca.transform(x_val)\n",
    "\n",
    "log_model = LogisticRegression(solver='liblinear',max_iter = 1000).fit(pca_feats,y_train)\n",
    "forest_model = RandomForestClassifier(n_estimators=100,random_state=42).fit(pca_feats,y_train)\n",
    "linear_model = LinearSVC(random_state = 42).fit(pca_feats,y_train)\n",
    "\n",
    "log_score = log_model.score(pca_val_x,y_val)\n",
    "forest_score = forest_model.score(pca_val_x,y_val)\n",
    "linear_score = linear_model.score(pca_val_x,y_val)\n",
    "\n",
    "print(log_score,forest_score, linear_score)"
   ]
  },
  {
   "cell_type": "markdown",
   "id": "dbd32f82-ff99-45c8-aa42-7030e19ccdf7",
   "metadata": {},
   "source": [
    "_The above results are very interesting, but I suppose not surprising. The PCA revealed little in the way of a definitive hyperplane among the input features._"
   ]
  },
  {
   "cell_type": "markdown",
   "id": "e5abea1e-9bc4-44c8-9c7b-21aa268a7caa",
   "metadata": {},
   "source": [
    "### Naive Bayes Model Examination"
   ]
  },
  {
   "cell_type": "code",
   "execution_count": 26,
   "id": "ca48822d-f646-4ca7-b125-69bd5d5c363e",
   "metadata": {},
   "outputs": [],
   "source": [
    "from sklearn.naive_bayes import GaussianNB, BernoulliNB"
   ]
  },
  {
   "cell_type": "code",
   "execution_count": 27,
   "id": "0e5044a6-6547-4792-bca0-d8422fde1057",
   "metadata": {},
   "outputs": [],
   "source": [
    "train_and_val = pd.read_csv('train.csv')\n",
    "train, val = train_test_split(train_and_val,test_size=0.3,random_state=42)\n",
    "\n",
    "x_train, y_train = tweet_processing(train)\n",
    "\n",
    "x_val, y_val = tweet_processing(val)"
   ]
  },
  {
   "cell_type": "markdown",
   "id": "95cea4f2-ab67-4843-9eba-0858e519fc26",
   "metadata": {},
   "source": [
    "#### Gaussian Naive Bayes"
   ]
  },
  {
   "cell_type": "code",
   "execution_count": 28,
   "id": "a3be61c8-acd9-4d6e-8204-ed1d6140ba7d",
   "metadata": {},
   "outputs": [
    {
     "name": "stdout",
     "output_type": "stream",
     "text": [
      "Number of mislabeled points out of a total 2284 points : 747\n",
      "Accuracy:  0.6729422066549913\n"
     ]
    }
   ],
   "source": [
    "gnb = GaussianNB()\n",
    "y_pred = gnb.fit(x_train,y_train).predict(x_val)\n",
    "\n",
    "print(\"Number of mislabeled points out of a total %d points : %d\"\n",
    "      % (x_val.shape[0], (y_val != y_pred).sum()))\n",
    "print(\"Accuracy: \", ((y_val == y_pred).sum() / x_val.shape[0])) "
   ]
  },
  {
   "cell_type": "markdown",
   "id": "e24be442-3785-44da-946e-35977e256223",
   "metadata": {},
   "source": [
    "#### Bernoulli Naive Bayes"
   ]
  },
  {
   "cell_type": "code",
   "execution_count": 29,
   "id": "9c0930fe-343b-486f-bb8b-a48fe9d2795f",
   "metadata": {},
   "outputs": [
    {
     "name": "stdout",
     "output_type": "stream",
     "text": [
      "Number of mislabeled points out of a total 3263 points : 822\n",
      "Accuracy:  0.48336252189141854\n"
     ]
    }
   ],
   "source": [
    "bnb = BernoulliNB()\n",
    "y_pred = bnb.fit(x_train,y_train).predict(x_val)\n",
    "print(\"Number of mislabeled points out of a total %d points : %d\"\n",
    "      % (x_test.shape[0], (y_val != y_pred).sum()))\n",
    "print(\"Accuracy: \", ((y_test == y_pred).sum() / x_val.shape[0])) "
   ]
  },
  {
   "cell_type": "markdown",
   "id": "20142e41-b534-40b3-999c-59d96840e048",
   "metadata": {},
   "source": [
    "#### Deep Learning Model"
   ]
  },
  {
   "cell_type": "code",
   "execution_count": 30,
   "id": "ae86be91-e38a-4a06-91e7-2adba53a6b24",
   "metadata": {},
   "outputs": [
    {
     "name": "stderr",
     "output_type": "stream",
     "text": [
      "2024-06-29 10:44:05.717772: I tensorflow/core/platform/cpu_feature_guard.cc:210] This TensorFlow binary is optimized to use available CPU instructions in performance-critical operations.\n",
      "To enable the following instructions: AVX2 FMA, in other operations, rebuild TensorFlow with the appropriate compiler flags.\n",
      "2024-06-29 10:44:06.644848: W tensorflow/compiler/tf2tensorrt/utils/py_utils.cc:38] TF-TRT Warning: Could not find TensorRT\n"
     ]
    }
   ],
   "source": [
    "from tensorflow import keras\n",
    "from tensorflow.keras import layers\n",
    "\n",
    "from tensorflow.keras.models import Sequential\n",
    "from tensorflow.keras.layers import Dense\n",
    "from scikeras.wrappers import KerasClassifier\n",
    "from sklearn.model_selection import cross_val_score\n",
    "from sklearn.preprocessing import LabelEncoder\n",
    "from sklearn.model_selection import StratifiedKFold\n",
    "from sklearn.preprocessing import StandardScaler\n",
    "from sklearn.pipeline import Pipeline"
   ]
  },
  {
   "cell_type": "code",
   "execution_count": 31,
   "id": "7d621ebd-7f6e-48d8-858e-ff21bdcacded",
   "metadata": {},
   "outputs": [],
   "source": [
    "# input_shape = [x_train.shape[1]]\n",
    "\n",
    "# def create_base_model():\n",
    "#     keras_model = keras.Sequential([\n",
    "#         layers.Dense(512,activation='relu',input_shape=input_shape),\n",
    "#         layers.Dense(1,activation='sigmoid')\n",
    "#         ])\n",
    "    \n",
    "#     keras_model.compile(\n",
    "#         optimizer='adam',\n",
    "#         loss='binary_crossentropy',\n",
    "#         metrics=['accuracy']\n",
    "#         )\n",
    "#     return keras_model\n",
    "\n",
    "# estimator = KerasClassifier(model=create_base_model,epochs=200,batch_size=50,verbose=0)\n",
    "# kfold = StratifiedKFold(n_splits=10,shuffle=True)\n",
    "# results = cross_val_score(estimator, x_train, y_train, cv=kfold)\n",
    "# print(\"Baseline: %.2f%% (%.2f%%)\" % (results.mean()*100, results.std()*100))"
   ]
  },
  {
   "cell_type": "markdown",
   "id": "a26df52a-a973-4e18-be35-ee9f13fe4927",
   "metadata": {},
   "source": [
    "### BERT Classification"
   ]
  },
  {
   "cell_type": "code",
   "execution_count": 72,
   "id": "8a533dbd-401d-4112-aefd-279ee484e718",
   "metadata": {},
   "outputs": [],
   "source": [
    "import torch\n",
    "from transformers import BertModel\n",
    "from transformers import AutoTokenizer\n",
    "from torch.utils.data import Dataset\n",
    "\n",
    "from torch.utils.data import DataLoader"
   ]
  },
  {
   "cell_type": "markdown",
   "id": "efb778fe-9c42-4048-bfc7-3f9596962d3b",
   "metadata": {},
   "source": [
    "Guide for the BERT model and usage followed:\n",
    "https://towardsdatascience.com/part-1-data-cleaning-does-bert-need-clean-data-6a50c9c6e9fd\n",
    "https://towardsdatascience.com/does-bert-need-clean-data-part-2-classification-d29adf9f745a"
   ]
  },
  {
   "cell_type": "code",
   "execution_count": 73,
   "id": "1d2f8cc1-63e9-46b8-8259-f30fdc48d4c5",
   "metadata": {},
   "outputs": [],
   "source": [
    "class TextDataset(Dataset):\n",
    "    def __init__(self, dataframe, max_length=180, tokenizer_name='bert-base-uncased'):\n",
    "        self.texts = dataframe['text'].values\n",
    "        self.targets = dataframe['target'].values\n",
    "        #breaks down targets into tokens\n",
    "        self.tokenizer = AutoTokenizer.from_pretrained(tokenizer_name)\n",
    "        self.max_length = max_length\n",
    "\n",
    "    #returns length of texts DF\n",
    "    def __len__(self):\n",
    "        return len(self.texts)\n",
    "    \n",
    "    def __getitem__(self, idx):\n",
    "        text = self.texts[idx]\n",
    "        target = self.targets[idx]\n",
    "        encoding = self.tokenizer.encode_plus(\n",
    "            text,\n",
    "            add_special_tokens=True,\n",
    "            max_length=self.max_length,\n",
    "            padding='max_length',\n",
    "            truncation=True,\n",
    "            return_attention_mask=True,\n",
    "            return_tensors='pt'\n",
    "        )\n",
    "        input_ids = encoding['input_ids'].flatten()\n",
    "        attention_mask = encoding['attention_mask'].flatten()\n",
    "        \n",
    "        return {\n",
    "            'input_ids': torch.as_tensor(input_ids, dtype=torch.long),\n",
    "            'attention_mask': torch.as_tensor(attention_mask, dtype=torch.long),\n",
    "            'targets': torch.as_tensor(target, dtype=torch.long),\n",
    "            'text': text\n",
    "        }"
   ]
  },
  {
   "cell_type": "code",
   "execution_count": 74,
   "id": "ece44230-b925-4285-a0cb-c37ddcc4b981",
   "metadata": {},
   "outputs": [
    {
     "name": "stdout",
     "output_type": "stream",
     "text": [
      "4796 Training samples\n",
      "533 Validation samples\n"
     ]
    }
   ],
   "source": [
    "total_data = clean_train_data\n",
    "train_data, test_data = train_test_split(train,train_size=0.9,shuffle=True,random_state=42)\n",
    "print(f'{len(train_data)} Training samples')\n",
    "print(f'{len(test_data)} Validation samples')"
   ]
  },
  {
   "cell_type": "code",
   "execution_count": 75,
   "id": "0c2a2828-fd9d-48df-bd75-526ac08c772b",
   "metadata": {},
   "outputs": [],
   "source": [
    "train_dataset = TextDataset(train_data)\n",
    "test_dataset = TextDataset(test_data)"
   ]
  },
  {
   "cell_type": "code",
   "execution_count": 76,
   "id": "de298b8e-a292-4d7b-a76d-8b2eece5e08f",
   "metadata": {},
   "outputs": [
    {
     "data": {
      "text/plain": [
       "{'input_ids': tensor([[  101,  9801, 12849,  ...,     0,     0,     0],\n",
       "         [  101,  1030,  2600,  ...,     0,     0,     0],\n",
       "         [  101,  2070,  5850,  ...,     0,     0,     0],\n",
       "         ...,\n",
       "         [  101,  3930,  2852,  ...,     0,     0,     0],\n",
       "         [  101,  1030,  2044,  ...,     0,     0,     0],\n",
       "         [  101,  2182,  1045,  ...,     0,     0,     0]]),\n",
       " 'attention_mask': tensor([[1, 1, 1,  ..., 0, 0, 0],\n",
       "         [1, 1, 1,  ..., 0, 0, 0],\n",
       "         [1, 1, 1,  ..., 0, 0, 0],\n",
       "         ...,\n",
       "         [1, 1, 1,  ..., 0, 0, 0],\n",
       "         [1, 1, 1,  ..., 0, 0, 0],\n",
       "         [1, 1, 1,  ..., 0, 0, 0]]),\n",
       " 'targets': tensor([0, 0, 0, 0, 0, 0, 0, 1, 0, 0, 1, 0, 0, 0, 0, 1]),\n",
       " 'text': ['mortal kombat fatalities are so gross but interesting',\n",
       "  '@RockBottomRadFM Is one of the challenges on Tough Enough rescuing people from burning buildings?',\n",
       "  'Some drugs and alcohol in Jackson Vroman house.\\n\\nhttp://t.co/5OQhQ8QUQV',\n",
       "  '#AyekoRadio play Brasswork Agency - Crushed and Shaken http://t.co/Qh5axvhWH5 #Radio #NetLabel #ElectronicMusic #listen #CCMusic',\n",
       "  \"@POTUS Maybe we should call Israel and tell them we're sorry are Pres has sold them down the river to annihilation.\",\n",
       "  '#auspol Can you see the resemblance between ABBOTT &amp; Campbell both are loud and came in with a big BANG!! Out the same way;  Lets see !',\n",
       "  '@tareksocal I think a lot of celebrities have to treat ppl as if they could harm them',\n",
       "  'Stay vigilent. Civil liberties are under constant attack. #nativehuman #myreligion  https://t.co/WWu070Tjej',\n",
       "  'This setlist from @collideworship_ this past Sunday was powerful! What song was your favorite? http://t.co/vNzyBFGZcm',\n",
       "  \"WFTV Eyewitness News: FBI: Man who stole US secrets 'married' Honduran minors for sex http://t.co/NdwEp6IZDQ\",\n",
       "  'Refugio oil spill may have been costlier bigger than projected http://t.co/zdtcw9Fsx1',\n",
       "  \"Me- Don't bother calling or texting me because my phone is obliterated\\n\\n*has 7k missed calls and messages*\",\n",
       "  'Uber reduces drunk driving fatalities says independent study http://t.co/jVIVT6zrv7',\n",
       "  'Growth dries up for BHP Billiton as oil price collapse bites http://t.co/HQoD6v6DnC',\n",
       "  '@afterShock_DeLo im speaking from someone that is using a scuf on xb1 most of them people will end up getting on for ps also.',\n",
       "  \"Here I'm the UK there isn't a deluge of Canadian themed tops around...The timing was perfect. I can't quite believe it. Mad.\"]}"
      ]
     },
     "execution_count": 76,
     "metadata": {},
     "output_type": "execute_result"
    }
   ],
   "source": [
    "#recommended batch size\n",
    "BATCH_SIZE = 16\n",
    "\n",
    "torch.manual_seed(42)\n",
    "train_loader = DataLoader(train_dataset, \n",
    "                          batch_size=BATCH_SIZE,\n",
    "                          shuffle=True)\n",
    "test_loader = DataLoader(test_dataset,\n",
    "                         batch_size=len(test_dataset))\n",
    "next(iter(train_loader))"
   ]
  },
  {
   "cell_type": "code",
   "execution_count": 77,
   "id": "10a5d366-a466-4766-acdd-83dbc23b8100",
   "metadata": {},
   "outputs": [],
   "source": [
    "from torch import cuda\n",
    "torch.cuda.empty_cache()\n",
    "device = 'cuda' if cuda.is_available() else 'cpu'\n",
    "from transformers import BertForSequenceClassification, AdamW, BertConfig\n",
    "\n",
    "import time\n",
    "import datetime\n",
    "import numpy as np\n",
    "from sklearn.metrics import accuracy_score, precision_recall_fscore_support"
   ]
  },
  {
   "cell_type": "markdown",
   "id": "6090cbcf-714d-4440-823e-f4054cae9655",
   "metadata": {},
   "source": [
    "#### Initial ability"
   ]
  },
  {
   "cell_type": "code",
   "execution_count": 78,
   "id": "425a7c80-90f3-48fb-9866-43aadc923471",
   "metadata": {},
   "outputs": [
    {
     "name": "stderr",
     "output_type": "stream",
     "text": [
      "Some weights of BertForSequenceClassification were not initialized from the model checkpoint at bert-base-uncased and are newly initialized: ['classifier.bias', 'classifier.weight']\n",
      "You should probably TRAIN this model on a down-stream task to be able to use it for predictions and inference.\n"
     ]
    },
    {
     "data": {
      "text/plain": [
       "BertForSequenceClassification(\n",
       "  (bert): BertModel(\n",
       "    (embeddings): BertEmbeddings(\n",
       "      (word_embeddings): Embedding(30522, 768, padding_idx=0)\n",
       "      (position_embeddings): Embedding(512, 768)\n",
       "      (token_type_embeddings): Embedding(2, 768)\n",
       "      (LayerNorm): LayerNorm((768,), eps=1e-12, elementwise_affine=True)\n",
       "      (dropout): Dropout(p=0.1, inplace=False)\n",
       "    )\n",
       "    (encoder): BertEncoder(\n",
       "      (layer): ModuleList(\n",
       "        (0-11): 12 x BertLayer(\n",
       "          (attention): BertAttention(\n",
       "            (self): BertSdpaSelfAttention(\n",
       "              (query): Linear(in_features=768, out_features=768, bias=True)\n",
       "              (key): Linear(in_features=768, out_features=768, bias=True)\n",
       "              (value): Linear(in_features=768, out_features=768, bias=True)\n",
       "              (dropout): Dropout(p=0.1, inplace=False)\n",
       "            )\n",
       "            (output): BertSelfOutput(\n",
       "              (dense): Linear(in_features=768, out_features=768, bias=True)\n",
       "              (LayerNorm): LayerNorm((768,), eps=1e-12, elementwise_affine=True)\n",
       "              (dropout): Dropout(p=0.1, inplace=False)\n",
       "            )\n",
       "          )\n",
       "          (intermediate): BertIntermediate(\n",
       "            (dense): Linear(in_features=768, out_features=3072, bias=True)\n",
       "            (intermediate_act_fn): GELUActivation()\n",
       "          )\n",
       "          (output): BertOutput(\n",
       "            (dense): Linear(in_features=3072, out_features=768, bias=True)\n",
       "            (LayerNorm): LayerNorm((768,), eps=1e-12, elementwise_affine=True)\n",
       "            (dropout): Dropout(p=0.1, inplace=False)\n",
       "          )\n",
       "        )\n",
       "      )\n",
       "    )\n",
       "    (pooler): BertPooler(\n",
       "      (dense): Linear(in_features=768, out_features=768, bias=True)\n",
       "      (activation): Tanh()\n",
       "    )\n",
       "  )\n",
       "  (dropout): Dropout(p=0.1, inplace=False)\n",
       "  (classifier): Linear(in_features=768, out_features=2, bias=True)\n",
       ")"
      ]
     },
     "execution_count": 78,
     "metadata": {},
     "output_type": "execute_result"
    }
   ],
   "source": [
    "model = BertForSequenceClassification.from_pretrained(\n",
    "    \"bert-base-uncased\",\n",
    "    num_labels = 2,\n",
    "    output_attentions = False,\n",
    "    output_hidden_states = False,\n",
    ")\n",
    "\n",
    "model.to(device)"
   ]
  },
  {
   "cell_type": "code",
   "execution_count": 79,
   "id": "afd5b653-6d6c-42c1-81c9-dd5dd47dca99",
   "metadata": {},
   "outputs": [
    {
     "name": "stderr",
     "output_type": "stream",
     "text": [
      "/home/ljones333/miniconda3/envs/chem277b/lib/python3.10/site-packages/transformers/optimization.py:588: FutureWarning: This implementation of AdamW is deprecated and will be removed in a future version. Use the PyTorch implementation torch.optim.AdamW instead, or set `no_deprecation_warning=True` to disable this warning\n",
      "  warnings.warn(\n"
     ]
    }
   ],
   "source": [
    "EPOCHS = 3\n",
    "\n",
    "optimizer = AdamW(model.parameters(),\n",
    "                  lr = 2e-5, \n",
    "                  eps = 1e-8)"
   ]
  },
  {
   "cell_type": "code",
   "execution_count": 52,
   "id": "6399fc00-e65f-4132-bb72-a1574083b5fc",
   "metadata": {},
   "outputs": [
    {
     "name": "stdout",
     "output_type": "stream",
     "text": [
      "\n",
      "================ Epoch 1 / 3 ================\n",
      "  Batch    40  of    300.    Elapsed: 0:00:09.\n",
      "  Batch    80  of    300.    Elapsed: 0:00:17.\n",
      "  Batch   120  of    300.    Elapsed: 0:00:26.\n",
      "  Batch   160  of    300.    Elapsed: 0:00:35.\n",
      "  Batch   200  of    300.    Elapsed: 0:00:44.\n",
      "  Batch   240  of    300.    Elapsed: 0:00:53.\n",
      "  Batch   280  of    300.    Elapsed: 0:01:01.\n",
      "\n",
      "---TRAIN METRICS---\n",
      "Loss: 0.1346\n",
      "Accuracy: 0.9504\n",
      "Precision: 0.9598\n",
      "Recall: 0.9236\n",
      "F1-Score: 0.9413\n",
      "\n",
      "Running validation ...\n",
      "\n",
      "\n",
      "---TEST METRICS---\n",
      "Loss: 0.5842\n",
      "Accuracy: 0.8255\n",
      "Precision: 0.8469\n",
      "Recall: 0.7437\n",
      "F1-Score: 0.7919\n",
      "\n",
      "================ Epoch 2 / 3 ================\n",
      "  Batch    40  of    300.    Elapsed: 0:00:09.\n",
      "  Batch    80  of    300.    Elapsed: 0:00:18.\n",
      "  Batch   120  of    300.    Elapsed: 0:00:27.\n",
      "  Batch   160  of    300.    Elapsed: 0:00:37.\n",
      "  Batch   200  of    300.    Elapsed: 0:00:46.\n",
      "  Batch   240  of    300.    Elapsed: 0:00:55.\n",
      "  Batch   280  of    300.    Elapsed: 0:01:05.\n",
      "\n",
      "---TRAIN METRICS---\n",
      "Loss: 0.1167\n",
      "Accuracy: 0.9625\n",
      "Precision: 0.9673\n",
      "Recall: 0.9448\n",
      "F1-Score: 0.9559\n",
      "\n",
      "Running validation ...\n",
      "\n",
      "\n",
      "---TEST METRICS---\n",
      "Loss: 0.7679\n",
      "Accuracy: 0.8068\n",
      "Precision: 0.8000\n",
      "Recall: 0.7563\n",
      "F1-Score: 0.7775\n",
      "\n",
      "================ Epoch 3 / 3 ================\n",
      "  Batch    40  of    300.    Elapsed: 0:00:17.\n",
      "  Batch    80  of    300.    Elapsed: 0:00:27.\n",
      "  Batch   120  of    300.    Elapsed: 0:00:37.\n",
      "  Batch   160  of    300.    Elapsed: 0:00:46.\n",
      "  Batch   200  of    300.    Elapsed: 0:00:57.\n",
      "  Batch   240  of    300.    Elapsed: 0:01:07.\n",
      "  Batch   280  of    300.    Elapsed: 0:01:17.\n",
      "\n",
      "---TRAIN METRICS---\n",
      "Loss: 0.1010\n",
      "Accuracy: 0.9721\n",
      "Precision: 0.9726\n",
      "Recall: 0.9623\n",
      "F1-Score: 0.9674\n",
      "\n",
      "Running validation ...\n",
      "\n",
      "\n",
      "---TEST METRICS---\n",
      "Loss: 0.7904\n",
      "Accuracy: 0.7861\n",
      "Precision: 0.7520\n",
      "Recall: 0.7773\n",
      "F1-Score: 0.7645\n"
     ]
    }
   ],
   "source": [
    "training_stats = []\n",
    "epoch_loss_train = []\n",
    "total_t0 = time.time()\n",
    "\n",
    "# TRAINING\n",
    "for epoch in range(1, EPOCHS + 1):\n",
    "    model.train()\n",
    "    t0 = time.time()\n",
    "    print(\"\")\n",
    "    print(\"================ Epoch {:} / {:} ================\".format(epoch, EPOCHS))\n",
    "    train_all_predictions = []\n",
    "    train_all_true_labels = []\n",
    "    for step, data in enumerate(train_loader):\n",
    "        if step % 40 == 0 and not step == 0:\n",
    "            elapsed = int(round(time.time() - t0))\n",
    "            elapsed = str(datetime.timedelta(seconds=elapsed))\n",
    "            print(\n",
    "                \"  Batch {:>5,}  of  {:>5,}.    Elapsed: {:}.\".format(\n",
    "                    step, len(train_loader), elapsed\n",
    "                )\n",
    "            )\n",
    "\n",
    "        targets = data[\"targets\"].to(device)\n",
    "        #used to send batch to transformer even if examples in \n",
    "        #batch have varying lengths; used to determine which \n",
    "        # tokens are padding\n",
    "        mask = data[\"attention_mask\"].to(device)\n",
    "        ids = data[\"input_ids\"].to(device)\n",
    "\n",
    "        model.zero_grad()\n",
    "\n",
    "        loss, logits = model(\n",
    "            ids, token_type_ids=None, attention_mask=mask, labels=targets\n",
    "        ).to_tuple()\n",
    "        epoch_loss_train.append(loss.item())\n",
    "\n",
    "        cpu_logits = logits.cpu().detach().numpy()\n",
    "        train_all_predictions.extend(np.argmax(cpu_logits, axis=1).flatten())\n",
    "        train_all_true_labels.extend(targets.cpu().numpy())\n",
    "\n",
    "        loss.backward()\n",
    "        optimizer.step()\n",
    "    train_accuracy = accuracy_score(train_all_true_labels, train_all_predictions)\n",
    "    train_precision, train_recall, train_f1, _ = precision_recall_fscore_support(\n",
    "        train_all_true_labels, train_all_predictions, average=\"binary\"\n",
    "    )\n",
    "    print(\"\")\n",
    "    print('---TRAIN METRICS---')\n",
    "    print(f\"Loss: {np.mean(epoch_loss_train):.4f}\")\n",
    "    print(f\"Accuracy: {train_accuracy:.4f}\")\n",
    "    print(f\"Precision: {train_precision:.4f}\")\n",
    "    print(f\"Recall: {train_recall:.4f}\")\n",
    "    print(f\"F1-Score: {train_f1:.4f}\")\n",
    "    print(\"\")\n",
    "    \n",
    "    # VALIDATION\n",
    "    print(\"Running validation ...\")\n",
    "    print(\"\")\n",
    "    model.eval()\n",
    "    epoch_loss_test = []\n",
    "    test_all_predictions = []\n",
    "    test_all_true_labels = []\n",
    "    for data in test_loader:\n",
    "        targets = data[\"targets\"].to(device)\n",
    "        mask = data[\"attention_mask\"].to(device)\n",
    "        ids = data[\"input_ids\"].to(device)\n",
    "        \n",
    "        with torch.no_grad():\n",
    "            loss, logits = model(ids, token_type_ids=None, attention_mask=mask, labels=targets).to_tuple()\n",
    "            \n",
    "        epoch_loss_test.append(loss.item())\n",
    "        cpu_logits = logits.cpu().detach().numpy()\n",
    "        test_all_predictions.extend(np.argmax(cpu_logits, axis=1).flatten())\n",
    "        test_all_true_labels.extend(targets.cpu().numpy())\n",
    "    test_accuracy = accuracy_score(test_all_true_labels, test_all_predictions)\n",
    "    test_precision, test_recall, test_f1, _ = precision_recall_fscore_support(\n",
    "        test_all_true_labels, test_all_predictions, average=\"binary\"\n",
    "    )\n",
    "    print(\"\")\n",
    "    print('---TEST METRICS---')\n",
    "    print(f\"Loss: {np.mean(epoch_loss_test):.4f}\")\n",
    "    print(f\"Accuracy: {test_accuracy:.4f}\")\n",
    "    print(f\"Precision: {test_precision:.4f}\")\n",
    "    print(f\"Recall: {test_recall:.4f}\")\n",
    "    print(f\"F1-Score: {test_f1:.4f}\")\n",
    "    \n",
    "    training_stats.append(\n",
    "            {\n",
    "            'epoch': epoch,\n",
    "            'Training Loss': np.mean(epoch_loss_train),\n",
    "            'Training Accuracy': train_accuracy,\n",
    "            'Training Precision': train_precision,\n",
    "            'Training Recall': train_recall,\n",
    "            'Training F1': train_f1,\n",
    "            'Validation Loss': np.mean(epoch_loss_test),\n",
    "            'Validation Accuracy': test_accuracy,\n",
    "            'Validation Precision': test_precision,\n",
    "            'Validation Recall': test_recall,\n",
    "            'Validation F1': test_f1\n",
    "        }\n",
    "    )"
   ]
  },
  {
   "cell_type": "code",
   "execution_count": 46,
   "id": "b78df3d4-c1df-4cbc-b84e-4da478b3cbd6",
   "metadata": {},
   "outputs": [
    {
     "data": {
      "text/html": [
       "<div>\n",
       "<style scoped>\n",
       "    .dataframe tbody tr th:only-of-type {\n",
       "        vertical-align: middle;\n",
       "    }\n",
       "\n",
       "    .dataframe tbody tr th {\n",
       "        vertical-align: top;\n",
       "    }\n",
       "\n",
       "    .dataframe thead th {\n",
       "        text-align: right;\n",
       "    }\n",
       "</style>\n",
       "<table border=\"1\" class=\"dataframe\">\n",
       "  <thead>\n",
       "    <tr style=\"text-align: right;\">\n",
       "      <th></th>\n",
       "      <th>Training Loss</th>\n",
       "      <th>Training Accuracy</th>\n",
       "      <th>Training Precision</th>\n",
       "      <th>Training Recall</th>\n",
       "      <th>Training F1</th>\n",
       "      <th>Validation Loss</th>\n",
       "      <th>Validation Accuracy</th>\n",
       "      <th>Validation Precision</th>\n",
       "      <th>Validation Recall</th>\n",
       "      <th>Validation F1</th>\n",
       "    </tr>\n",
       "    <tr>\n",
       "      <th>epoch</th>\n",
       "      <th></th>\n",
       "      <th></th>\n",
       "      <th></th>\n",
       "      <th></th>\n",
       "      <th></th>\n",
       "      <th></th>\n",
       "      <th></th>\n",
       "      <th></th>\n",
       "      <th></th>\n",
       "      <th></th>\n",
       "    </tr>\n",
       "  </thead>\n",
       "  <tbody>\n",
       "    <tr>\n",
       "      <th>1</th>\n",
       "      <td>0.448998</td>\n",
       "      <td>0.801918</td>\n",
       "      <td>0.800754</td>\n",
       "      <td>0.719400</td>\n",
       "      <td>0.757900</td>\n",
       "      <td>0.393510</td>\n",
       "      <td>0.834897</td>\n",
       "      <td>0.857143</td>\n",
       "      <td>0.756303</td>\n",
       "      <td>0.803571</td>\n",
       "    </tr>\n",
       "    <tr>\n",
       "      <th>2</th>\n",
       "      <td>0.383798</td>\n",
       "      <td>0.877398</td>\n",
       "      <td>0.895243</td>\n",
       "      <td>0.810353</td>\n",
       "      <td>0.850686</td>\n",
       "      <td>0.472887</td>\n",
       "      <td>0.821764</td>\n",
       "      <td>0.826484</td>\n",
       "      <td>0.760504</td>\n",
       "      <td>0.792123</td>\n",
       "    </tr>\n",
       "    <tr>\n",
       "      <th>3</th>\n",
       "      <td>0.329232</td>\n",
       "      <td>0.918265</td>\n",
       "      <td>0.935065</td>\n",
       "      <td>0.870827</td>\n",
       "      <td>0.901804</td>\n",
       "      <td>0.558444</td>\n",
       "      <td>0.797373</td>\n",
       "      <td>0.762097</td>\n",
       "      <td>0.794118</td>\n",
       "      <td>0.777778</td>\n",
       "    </tr>\n",
       "  </tbody>\n",
       "</table>\n",
       "</div>"
      ],
      "text/plain": [
       "       Training Loss  Training Accuracy  Training Precision  Training Recall  \\\n",
       "epoch                                                                          \n",
       "1           0.448998           0.801918            0.800754         0.719400   \n",
       "2           0.383798           0.877398            0.895243         0.810353   \n",
       "3           0.329232           0.918265            0.935065         0.870827   \n",
       "\n",
       "       Training F1  Validation Loss  Validation Accuracy  \\\n",
       "epoch                                                      \n",
       "1         0.757900         0.393510             0.834897   \n",
       "2         0.850686         0.472887             0.821764   \n",
       "3         0.901804         0.558444             0.797373   \n",
       "\n",
       "       Validation Precision  Validation Recall  Validation F1  \n",
       "epoch                                                          \n",
       "1                  0.857143           0.756303       0.803571  \n",
       "2                  0.826484           0.760504       0.792123  \n",
       "3                  0.762097           0.794118       0.777778  "
      ]
     },
     "execution_count": 46,
     "metadata": {},
     "output_type": "execute_result"
    }
   ],
   "source": [
    "df_statistics = pd.DataFrame(data=training_stats)\n",
    "df_statistics = df_statistics.set_index('epoch')\n",
    "df_statistics"
   ]
  },
  {
   "cell_type": "code",
   "execution_count": 47,
   "id": "8eb8e2b1-9023-4250-aa90-f61e45dced72",
   "metadata": {},
   "outputs": [
    {
     "data": {
      "image/png": "[encoded data removed]",
      "text/plain": [
       "<Figure size 640x480 with 1 Axes>"
      ]
     },
     "metadata": {},
     "output_type": "display_data"
    }
   ],
   "source": [
    "plt.plot(df_statistics['Training Loss'], 'b-o', label='Training')\n",
    "plt.plot(df_statistics['Validation Loss'], 'g-o', label='Validation')\n",
    "plt.title(\"Training & Validation Loss\")\n",
    "plt.xlabel(\"Epoch\")\n",
    "plt.ylabel(\"Loss\")\n",
    "plt.legend()\n",
    "plt.xticks([1, 2, 3])\n",
    "\n",
    "plt.show()"
   ]
  },
  {
   "cell_type": "markdown",
   "id": "a5fbe4ae-68d9-4b75-af4d-a8479aaa4efc",
   "metadata": {},
   "source": [
    "#### After adding Metafeatures from Model section"
   ]
  },
  {
   "cell_type": "code",
   "execution_count": 84,
   "id": "a664f68a-6264-453a-9ac9-2b06a69c57aa",
   "metadata": {},
   "outputs": [],
   "source": [
    "def bert_tokenizer(text):\n",
    "    encoding = tokenizer.encode_plus(\n",
    "    text,\n",
    "    max_length=40,\n",
    "    truncation=True,\n",
    "    add_special_tokens=True, # Add '[CLS]' and '[SEP]'\n",
    "    return_token_type_ids=False,\n",
    "    pad_to_max_length=True,\n",
    "    padding='max_length',\n",
    "    return_attention_mask=True,\n",
    "    return_tensors='pt',  # Return PyTorch tensors\n",
    "    )\n",
    "\n",
    "    return encoding['input_ids'][0], encoding['attention_mask'][0]"
   ]
  },
  {
   "cell_type": "code",
   "execution_count": 85,
   "id": "e9ccffa1-3c5e-40e3-a883-98df46022835",
   "metadata": {},
   "outputs": [
    {
     "ename": "NameError",
     "evalue": "name 'train_list' is not defined",
     "output_type": "error",
     "traceback": [
      "\u001b[0;31m---------------------------------------------------------------------------\u001b[0m",
      "\u001b[0;31mNameError\u001b[0m                                 Traceback (most recent call last)",
      "Cell \u001b[0;32mIn[85], line 4\u001b[0m\n\u001b[1;32m      2\u001b[0m train_tokenized_list \u001b[38;5;241m=\u001b[39m []\n\u001b[1;32m      3\u001b[0m train_attn_mask_list \u001b[38;5;241m=\u001b[39m []\n\u001b[0;32m----> 4\u001b[0m \u001b[38;5;28;01mfor\u001b[39;00m text \u001b[38;5;129;01min\u001b[39;00m \u001b[38;5;28mlist\u001b[39m(\u001b[43mtrain_list\u001b[49m):\n\u001b[1;32m      5\u001b[0m     tokenized_text, attn_mask \u001b[38;5;241m=\u001b[39m bert_tokenizer(text)\n\u001b[1;32m      6\u001b[0m     train_tokenized_list\u001b[38;5;241m.\u001b[39mappend(tokenized_text\u001b[38;5;241m.\u001b[39mnumpy())\n",
      "\u001b[0;31mNameError\u001b[0m: name 'train_list' is not defined"
     ]
    }
   ],
   "source": [
    "# train data tokenization\n",
    "train_tokenized_list = []\n",
    "train_attn_mask_list = []\n",
    "for text in list(train_list):\n",
    "    tokenized_text, attn_mask = bert_tokenizer(text)\n",
    "    train_tokenized_list.append(tokenized_text.numpy())\n",
    "    train_attn_mask_list.append(attn_mask.numpy())\n",
    "\n",
    "# test data tokenization\n",
    "test_tokenized_list = []\n",
    "test_attn_mask_list = []\n",
    "for text in list(test_list):\n",
    "    tokenized_text, attn_mask = bert_tokenizer(text)\n",
    "    test_tokenized_list.append(tokenized_text.numpy())\n",
    "    test_attn_mask_list.append(attn_mask.numpy())"
   ]
  },
  {
   "cell_type": "code",
   "execution_count": 48,
   "id": "1b7d02c0-4520-4140-ae39-1861dcb2f5e1",
   "metadata": {},
   "outputs": [],
   "source": [
    "#dataset for submission data\n",
    "class SubmissionDataset(Dataset):\n",
    "    def __init__(self, dataframe, max_length=180, tokenizer_name='bert-base-uncased'):\n",
    "        self.texts = dataframe['text'].values\n",
    "        self.tokenizer = AutoTokenizer.from_pretrained(tokenizer_name)\n",
    "        self.max_length = max_length\n",
    "        \n",
    "    def __len__(self):\n",
    "        return len(self.texts)\n",
    "    \n",
    "    def __getitem__(self, idx):\n",
    "        text = self.texts[idx]\n",
    "        encoding = self.tokenizer.encode_plus(\n",
    "            text,\n",
    "            add_special_tokens=True,\n",
    "            max_length=self.max_length,\n",
    "            padding='max_length',\n",
    "            truncation=True,\n",
    "            return_attention_mask=True,\n",
    "            return_tensors='pt'\n",
    "        )\n",
    "        input_ids = encoding['input_ids'].flatten()\n",
    "        attention_mask = encoding['attention_mask'].flatten()\n",
    "        \n",
    "        return {\n",
    "            'input_ids': torch.as_tensor(input_ids, dtype=torch.long),\n",
    "            'attention_mask': torch.as_tensor(attention_mask, dtype=torch.long),\n",
    "        }"
   ]
  },
  {
   "cell_type": "code",
   "execution_count": 49,
   "id": "ea485ecc-4e8e-4a4f-aa3d-4032f3152e4c",
   "metadata": {},
   "outputs": [],
   "source": [
    "submission_dataset = SubmissionDataset(final_test)\n",
    "submission_loader = DataLoader(submission_dataset, \n",
    "                          batch_size=16)"
   ]
  },
  {
   "cell_type": "code",
   "execution_count": 50,
   "id": "812539aa-cf0a-4cfb-9d67-ea3b8d5eeb7c",
   "metadata": {},
   "outputs": [],
   "source": [
    "preds = []\n",
    "for data in submission_loader:\n",
    "    mask = data[\"attention_mask\"].to(device)\n",
    "    ids = data[\"input_ids\"].to(device)\n",
    "    with torch.no_grad():\n",
    "        logits = model(ids, token_type_ids=None, attention_mask=mask)[0]\n",
    "        logits = logits.detach().cpu().numpy()\n",
    "        flat_predictions = np.argmax(logits, axis=1).flatten()\n",
    "        preds.extend(flat_predictions)"
   ]
  },
  {
   "cell_type": "code",
   "execution_count": 51,
   "id": "15f73add-6b42-4568-954c-df8beca2f1de",
   "metadata": {},
   "outputs": [],
   "source": [
    "submission = pd.read_csv(\"sample_submission.csv\")\n",
    "submission['target'] = preds\n",
    "submission.to_csv('submission.csv', index=False)"
   ]
  },
  {
   "cell_type": "markdown",
   "id": "d7e72405-65fb-4f63-817d-9b4561ea820d",
   "metadata": {},
   "source": [
    "## Outputting Predictions"
   ]
  },
  {
   "cell_type": "code",
   "execution_count": null,
   "id": "143ba265-8b74-47fb-b11d-fa6c42eaf6d2",
   "metadata": {},
   "outputs": [],
   "source": [
    "output_model  = GaussianNB()\n",
    "#output_model = LogisticRegression(solver='sag',max_iter = 1000).fit(x_train,y_train)\n",
    "ids = final_test['id']\n",
    "y_pred = (pd.DataFrame(output_model.fit(x_train,y_train).predict(x_test))\n",
    "          .rename(columns={0:'target'})\n",
    "        )\n",
    "\n",
    "y_pred.insert(0,'id',value=ids)\n",
    "display(y_pred.head())\n",
    "y_pred.to_csv('submission_3.csv',index=False)"
   ]
  },
  {
   "cell_type": "code",
   "execution_count": null,
   "id": "865be70a-7bdd-4bf8-8976-e1d28d07633d",
   "metadata": {},
   "outputs": [],
   "source": []
  }
 ],
 "metadata": {
  "kernelspec": {
   "display_name": "chem277b",
   "language": "python",
   "name": "chem277b"
  },
  "language_info": {
   "codemirror_mode": {
    "name": "ipython",
    "version": 3
   },
   "file_extension": ".py",
   "mimetype": "text/x-python",
   "name": "python",
   "nbconvert_exporter": "python",
   "pygments_lexer": "ipython3",
   "version": "3.10.13"
  }
 },
 "nbformat": 4,
 "nbformat_minor": 5
}
